{
  "nbformat": 4,
  "nbformat_minor": 0,
  "metadata": {
    "colab": {
      "name": "UDEMY NLTK COURSE.ipynb",
      "provenance": [],
      "authorship_tag": "ABX9TyP22EGuTJIOYhdzxDNlpl6d",
      "include_colab_link": true
    },
    "kernelspec": {
      "name": "python3",
      "display_name": "Python 3"
    },
    "language_info": {
      "name": "python"
    }
  },
  "cells": [
    {
      "cell_type": "markdown",
      "metadata": {
        "id": "view-in-github",
        "colab_type": "text"
      },
      "source": [
        "<a href=\"https://colab.research.google.com/github/aabhapingle/Big-data/blob/master/using_nltk.ipynb\" target=\"_parent\"><img src=\"https://colab.research.google.com/assets/colab-badge.svg\" alt=\"Open In Colab\"/></a>"
      ]
    },
    {
      "cell_type": "code",
      "metadata": {
        "id": "ybXR9BDWj6Wf"
      },
      "source": [
        "import nltk"
      ],
      "execution_count": null,
      "outputs": []
    },
    {
      "cell_type": "code",
      "metadata": {
        "colab": {
          "base_uri": "https://localhost:8080/"
        },
        "id": "H7y080jTmt-O",
        "outputId": "e2db0258-d0c8-49b7-8675-028cb00d5078"
      },
      "source": [
        "nltk.download(\"popular\")"
      ],
      "execution_count": null,
      "outputs": [
        {
          "output_type": "stream",
          "text": [
            "[nltk_data] Downloading collection 'popular'\n",
            "[nltk_data]    | \n",
            "[nltk_data]    | Downloading package cmudict to /root/nltk_data...\n",
            "[nltk_data]    |   Unzipping corpora/cmudict.zip.\n",
            "[nltk_data]    | Downloading package gazetteers to /root/nltk_data...\n",
            "[nltk_data]    |   Unzipping corpora/gazetteers.zip.\n",
            "[nltk_data]    | Downloading package genesis to /root/nltk_data...\n",
            "[nltk_data]    |   Unzipping corpora/genesis.zip.\n",
            "[nltk_data]    | Downloading package gutenberg to /root/nltk_data...\n",
            "[nltk_data]    |   Unzipping corpora/gutenberg.zip.\n",
            "[nltk_data]    | Downloading package inaugural to /root/nltk_data...\n",
            "[nltk_data]    |   Unzipping corpora/inaugural.zip.\n",
            "[nltk_data]    | Downloading package movie_reviews to\n",
            "[nltk_data]    |     /root/nltk_data...\n",
            "[nltk_data]    |   Unzipping corpora/movie_reviews.zip.\n",
            "[nltk_data]    | Downloading package names to /root/nltk_data...\n",
            "[nltk_data]    |   Unzipping corpora/names.zip.\n",
            "[nltk_data]    | Downloading package shakespeare to /root/nltk_data...\n",
            "[nltk_data]    |   Unzipping corpora/shakespeare.zip.\n",
            "[nltk_data]    | Downloading package stopwords to /root/nltk_data...\n",
            "[nltk_data]    |   Unzipping corpora/stopwords.zip.\n",
            "[nltk_data]    | Downloading package treebank to /root/nltk_data...\n",
            "[nltk_data]    |   Unzipping corpora/treebank.zip.\n",
            "[nltk_data]    | Downloading package twitter_samples to\n",
            "[nltk_data]    |     /root/nltk_data...\n",
            "[nltk_data]    |   Unzipping corpora/twitter_samples.zip.\n",
            "[nltk_data]    | Downloading package omw to /root/nltk_data...\n",
            "[nltk_data]    |   Unzipping corpora/omw.zip.\n",
            "[nltk_data]    | Downloading package wordnet to /root/nltk_data...\n",
            "[nltk_data]    |   Unzipping corpora/wordnet.zip.\n",
            "[nltk_data]    | Downloading package wordnet_ic to /root/nltk_data...\n",
            "[nltk_data]    |   Unzipping corpora/wordnet_ic.zip.\n",
            "[nltk_data]    | Downloading package words to /root/nltk_data...\n",
            "[nltk_data]    |   Unzipping corpora/words.zip.\n",
            "[nltk_data]    | Downloading package maxent_ne_chunker to\n",
            "[nltk_data]    |     /root/nltk_data...\n",
            "[nltk_data]    |   Unzipping chunkers/maxent_ne_chunker.zip.\n",
            "[nltk_data]    | Downloading package punkt to /root/nltk_data...\n",
            "[nltk_data]    |   Unzipping tokenizers/punkt.zip.\n",
            "[nltk_data]    | Downloading package snowball_data to\n",
            "[nltk_data]    |     /root/nltk_data...\n",
            "[nltk_data]    | Downloading package averaged_perceptron_tagger to\n",
            "[nltk_data]    |     /root/nltk_data...\n",
            "[nltk_data]    |   Unzipping taggers/averaged_perceptron_tagger.zip.\n",
            "[nltk_data]    | \n",
            "[nltk_data]  Done downloading collection popular\n"
          ],
          "name": "stdout"
        },
        {
          "output_type": "execute_result",
          "data": {
            "text/plain": [
              "True"
            ]
          },
          "metadata": {
            "tags": []
          },
          "execution_count": 2
        }
      ]
    },
    {
      "cell_type": "code",
      "metadata": {
        "id": "pUgncTkCvPQ8"
      },
      "source": [
        "from nltk.corpus import gutenberg"
      ],
      "execution_count": null,
      "outputs": []
    },
    {
      "cell_type": "code",
      "metadata": {
        "colab": {
          "base_uri": "https://localhost:8080/"
        },
        "id": "xkLedrxAxwTh",
        "outputId": "542e970b-e5a5-4631-e011-d6e6f8913a6e"
      },
      "source": [
        "gutenberg.fileids() # list of filenames in the corpus"
      ],
      "execution_count": null,
      "outputs": [
        {
          "output_type": "execute_result",
          "data": {
            "text/plain": [
              "['austen-emma.txt',\n",
              " 'austen-persuasion.txt',\n",
              " 'austen-sense.txt',\n",
              " 'bible-kjv.txt',\n",
              " 'blake-poems.txt',\n",
              " 'bryant-stories.txt',\n",
              " 'burgess-busterbrown.txt',\n",
              " 'carroll-alice.txt',\n",
              " 'chesterton-ball.txt',\n",
              " 'chesterton-brown.txt',\n",
              " 'chesterton-thursday.txt',\n",
              " 'edgeworth-parents.txt',\n",
              " 'melville-moby_dick.txt',\n",
              " 'milton-paradise.txt',\n",
              " 'shakespeare-caesar.txt',\n",
              " 'shakespeare-hamlet.txt',\n",
              " 'shakespeare-macbeth.txt',\n",
              " 'whitman-leaves.txt']"
            ]
          },
          "metadata": {
            "tags": []
          },
          "execution_count": 4
        }
      ]
    },
    {
      "cell_type": "code",
      "metadata": {
        "id": "DKsrCaaFx1on"
      },
      "source": [
        "r_bible = gutenberg.raw('bible-kjv.txt')"
      ],
      "execution_count": null,
      "outputs": []
    },
    {
      "cell_type": "code",
      "metadata": {
        "colab": {
          "base_uri": "https://localhost:8080/",
          "height": 53
        },
        "id": "l3Yh2aaQ2Ik0",
        "outputId": "2029c2f8-a3cd-419f-946f-8bcc025d075e"
      },
      "source": [
        "r_bible[:100]"
      ],
      "execution_count": null,
      "outputs": [
        {
          "output_type": "execute_result",
          "data": {
            "application/vnd.google.colaboratory.intrinsic+json": {
              "type": "string"
            },
            "text/plain": [
              "'[The King James Bible]\\n\\nThe Old Testament of the King James Bible\\n\\nThe First Book of Moses:  Called '"
            ]
          },
          "metadata": {
            "tags": []
          },
          "execution_count": 6
        }
      ]
    },
    {
      "cell_type": "code",
      "metadata": {
        "id": "Iqdtla_f2Lo2"
      },
      "source": [
        "l_w_bible = gutenberg.words('bible-kjv.txt')"
      ],
      "execution_count": null,
      "outputs": []
    },
    {
      "cell_type": "code",
      "metadata": {
        "colab": {
          "base_uri": "https://localhost:8080/"
        },
        "id": "keWXiXRF2X7T",
        "outputId": "37540837-b712-459f-80ee-2247cec45bed"
      },
      "source": [
        "l_w_bible[:10] # first 10 words     "
      ],
      "execution_count": null,
      "outputs": [
        {
          "output_type": "execute_result",
          "data": {
            "text/plain": [
              "['[', 'The', 'King', 'James', 'Bible', ']', 'The', 'Old', 'Testament', 'of']"
            ]
          },
          "metadata": {
            "tags": []
          },
          "execution_count": 8
        }
      ]
    },
    {
      "cell_type": "code",
      "metadata": {
        "id": "OnKOrIlS2ety"
      },
      "source": [
        "l_s_bible = gutenberg.sents('bible-kjv.txt') # sentences "
      ],
      "execution_count": null,
      "outputs": []
    },
    {
      "cell_type": "code",
      "metadata": {
        "colab": {
          "base_uri": "https://localhost:8080/"
        },
        "id": "0ZcijRFxKKqh",
        "outputId": "e3f6e603-d481-4192-ebf5-7553b560aee1"
      },
      "source": [
        "l_s_bible[3]"
      ],
      "execution_count": null,
      "outputs": [
        {
          "output_type": "execute_result",
          "data": {
            "text/plain": [
              "['1',\n",
              " ':',\n",
              " '1',\n",
              " 'In',\n",
              " 'the',\n",
              " 'beginning',\n",
              " 'God',\n",
              " 'created',\n",
              " 'the',\n",
              " 'heaven',\n",
              " 'and',\n",
              " 'the',\n",
              " 'earth',\n",
              " '.']"
            ]
          },
          "metadata": {
            "tags": []
          },
          "execution_count": 10
        }
      ]
    },
    {
      "cell_type": "code",
      "metadata": {
        "id": "Y2jkxwS7KVGc"
      },
      "source": [
        "from nltk.corpus import brown"
      ],
      "execution_count": null,
      "outputs": []
    },
    {
      "cell_type": "code",
      "metadata": {
        "colab": {
          "base_uri": "https://localhost:8080/"
        },
        "id": "mvBBtgMqKvwm",
        "outputId": "df072f67-f074-4e8c-edd0-ad52439a4bec"
      },
      "source": [
        "nltk.download('brown')"
      ],
      "execution_count": null,
      "outputs": [
        {
          "output_type": "stream",
          "text": [
            "[nltk_data] Downloading package brown to /root/nltk_data...\n",
            "[nltk_data]   Unzipping corpora/brown.zip.\n"
          ],
          "name": "stdout"
        },
        {
          "output_type": "execute_result",
          "data": {
            "text/plain": [
              "True"
            ]
          },
          "metadata": {
            "tags": []
          },
          "execution_count": 12
        }
      ]
    },
    {
      "cell_type": "code",
      "metadata": {
        "colab": {
          "base_uri": "https://localhost:8080/"
        },
        "id": "eiOYntaCKiwB",
        "outputId": "c0772256-322c-4a33-bbd0-ab57f77113ba"
      },
      "source": [
        "brown.categories()"
      ],
      "execution_count": null,
      "outputs": [
        {
          "output_type": "execute_result",
          "data": {
            "text/plain": [
              "['adventure',\n",
              " 'belles_lettres',\n",
              " 'editorial',\n",
              " 'fiction',\n",
              " 'government',\n",
              " 'hobbies',\n",
              " 'humor',\n",
              " 'learned',\n",
              " 'lore',\n",
              " 'mystery',\n",
              " 'news',\n",
              " 'religion',\n",
              " 'reviews',\n",
              " 'romance',\n",
              " 'science_fiction']"
            ]
          },
          "metadata": {
            "tags": []
          },
          "execution_count": 13
        }
      ]
    },
    {
      "cell_type": "code",
      "metadata": {
        "colab": {
          "base_uri": "https://localhost:8080/"
        },
        "id": "3pOMrrNSKkeo",
        "outputId": "f9a9404e-689e-49d0-fffa-a87f75554b54"
      },
      "source": [
        "brown.fileids(categories=['humor'])"
      ],
      "execution_count": null,
      "outputs": [
        {
          "output_type": "execute_result",
          "data": {
            "text/plain": [
              "['cr01', 'cr02', 'cr03', 'cr04', 'cr05', 'cr06', 'cr07', 'cr08', 'cr09']"
            ]
          },
          "metadata": {
            "tags": []
          },
          "execution_count": 14
        }
      ]
    },
    {
      "cell_type": "markdown",
      "metadata": {
        "id": "I2SjyskPMMZc"
      },
      "source": [
        "# Frequency Distribution"
      ]
    },
    {
      "cell_type": "code",
      "metadata": {
        "id": "CpoeuTsIMQ2b"
      },
      "source": [
        "from nltk import ConditionalFreqDist, FreqDist"
      ],
      "execution_count": null,
      "outputs": []
    },
    {
      "cell_type": "code",
      "metadata": {
        "id": "jihyluRMMaz6"
      },
      "source": [
        "s = 'I saw Susie sitting in a shoe shine shop.Where she sits she shines, and where she shines she sits.'"
      ],
      "execution_count": null,
      "outputs": []
    },
    {
      "cell_type": "code",
      "metadata": {
        "id": "dcp413rIMrTc"
      },
      "source": [
        "l = s.split()"
      ],
      "execution_count": null,
      "outputs": []
    },
    {
      "cell_type": "code",
      "metadata": {
        "colab": {
          "base_uri": "https://localhost:8080/"
        },
        "id": "0J2_wIJWMukn",
        "outputId": "ded57ce2-8521-4ebf-a808-c7153c14d14c"
      },
      "source": [
        "l"
      ],
      "execution_count": null,
      "outputs": [
        {
          "output_type": "execute_result",
          "data": {
            "text/plain": [
              "['I',\n",
              " 'saw',\n",
              " 'Susie',\n",
              " 'sitting',\n",
              " 'in',\n",
              " 'a',\n",
              " 'shoe',\n",
              " 'shine',\n",
              " 'shop.Where',\n",
              " 'she',\n",
              " 'sits',\n",
              " 'she',\n",
              " 'shines,',\n",
              " 'and',\n",
              " 'where',\n",
              " 'she',\n",
              " 'shines',\n",
              " 'she',\n",
              " 'sits.']"
            ]
          },
          "metadata": {
            "tags": []
          },
          "execution_count": 18
        }
      ]
    },
    {
      "cell_type": "code",
      "metadata": {
        "id": "qRQQjhOpMwyL"
      },
      "source": [
        "fd = FreqDist(l) # records the number of times each outcome of an experiment has occurred"
      ],
      "execution_count": null,
      "outputs": []
    },
    {
      "cell_type": "code",
      "metadata": {
        "colab": {
          "base_uri": "https://localhost:8080/"
        },
        "id": "-eBfO30wNDjR",
        "outputId": "7d37f6bd-6f12-4ff0-b7bc-793e4f1d6a91"
      },
      "source": [
        "fd # dictionary data structure\n"
      ],
      "execution_count": null,
      "outputs": [
        {
          "output_type": "execute_result",
          "data": {
            "text/plain": [
              "FreqDist({'I': 1,\n",
              "          'Susie': 1,\n",
              "          'a': 1,\n",
              "          'and': 1,\n",
              "          'in': 1,\n",
              "          'saw': 1,\n",
              "          'she': 4,\n",
              "          'shine': 1,\n",
              "          'shines': 1,\n",
              "          'shines,': 1,\n",
              "          'shoe': 1,\n",
              "          'shop.Where': 1,\n",
              "          'sits': 1,\n",
              "          'sits.': 1,\n",
              "          'sitting': 1,\n",
              "          'where': 1})"
            ]
          },
          "metadata": {
            "tags": []
          },
          "execution_count": 20
        }
      ]
    },
    {
      "cell_type": "code",
      "metadata": {
        "colab": {
          "base_uri": "https://localhost:8080/"
        },
        "id": "aDu2CCTeNfcc",
        "outputId": "b2976d64-d8e6-45a0-d31b-3391fec611d4"
      },
      "source": [
        "fd.most_common(2) # gives top 2 most common words"
      ],
      "execution_count": null,
      "outputs": [
        {
          "output_type": "execute_result",
          "data": {
            "text/plain": [
              "[('she', 4), ('I', 1)]"
            ]
          },
          "metadata": {
            "tags": []
          },
          "execution_count": 21
        }
      ]
    },
    {
      "cell_type": "code",
      "metadata": {
        "colab": {
          "base_uri": "https://localhost:8080/"
        },
        "id": "fwPd6dusNubz",
        "outputId": "52a19202-a081-40ba-c7cd-dbb108e8df96"
      },
      "source": [
        "len(l_w_bible)"
      ],
      "execution_count": null,
      "outputs": [
        {
          "output_type": "execute_result",
          "data": {
            "text/plain": [
              "1010654"
            ]
          },
          "metadata": {
            "tags": []
          },
          "execution_count": 22
        }
      ]
    },
    {
      "cell_type": "code",
      "metadata": {
        "id": "IduIpRV3OMIS"
      },
      "source": [
        "fd_w_bible = FreqDist(l_w_bible)"
      ],
      "execution_count": null,
      "outputs": []
    },
    {
      "cell_type": "code",
      "metadata": {
        "colab": {
          "base_uri": "https://localhost:8080/"
        },
        "id": "h5mkh7dmOjF4",
        "outputId": "1b95515a-ef2a-4a93-ee17-315e90c4d2eb"
      },
      "source": [
        "fd_w_bible.most_common(10)"
      ],
      "execution_count": null,
      "outputs": [
        {
          "output_type": "execute_result",
          "data": {
            "text/plain": [
              "[(',', 70509),\n",
              " ('the', 62103),\n",
              " (':', 43766),\n",
              " ('and', 38847),\n",
              " ('of', 34480),\n",
              " ('.', 26160),\n",
              " ('to', 13396),\n",
              " ('And', 12846),\n",
              " ('that', 12576),\n",
              " ('in', 12331)]"
            ]
          },
          "metadata": {
            "tags": []
          },
          "execution_count": 24
        }
      ]
    },
    {
      "cell_type": "code",
      "metadata": {
        "colab": {
          "base_uri": "https://localhost:8080/"
        },
        "id": "4waWimRhOpQY",
        "outputId": "2f81893d-1fcc-4c5c-c3da-d97710cd6794"
      },
      "source": [
        "fd_w_bible.hapaxes()[:10]  # unique words or words which occur only once"
      ],
      "execution_count": null,
      "outputs": [
        {
          "output_type": "execute_result",
          "data": {
            "text/plain": [
              "['[',\n",
              " ']',\n",
              " 'Old',\n",
              " 'Genesis',\n",
              " 'Earth',\n",
              " 'Seas',\n",
              " 'whales',\n",
              " 'Pison',\n",
              " 'Cherubims',\n",
              " 'tiller']"
            ]
          },
          "metadata": {
            "tags": []
          },
          "execution_count": 25
        }
      ]
    },
    {
      "cell_type": "code",
      "metadata": {
        "colab": {
          "base_uri": "https://localhost:8080/",
          "height": 35
        },
        "id": "Z_pUHCNRPJQW",
        "outputId": "ecae925e-d305-44d7-ae02-f4787f3b3b11"
      },
      "source": [
        "fd_w_bible.max() # word with maximum frequency"
      ],
      "execution_count": null,
      "outputs": [
        {
          "output_type": "execute_result",
          "data": {
            "application/vnd.google.colaboratory.intrinsic+json": {
              "type": "string"
            },
            "text/plain": [
              "','"
            ]
          },
          "metadata": {
            "tags": []
          },
          "execution_count": 26
        }
      ]
    },
    {
      "cell_type": "code",
      "metadata": {
        "colab": {
          "base_uri": "https://localhost:8080/"
        },
        "id": "DIN6adiTPko1",
        "outputId": "e5346a30-c791-4ca6-e2ed-20c9274fb206"
      },
      "source": [
        "fd_w_bible.freq('the')"
      ],
      "execution_count": null,
      "outputs": [
        {
          "output_type": "execute_result",
          "data": {
            "text/plain": [
              "0.06144832949753328"
            ]
          },
          "metadata": {
            "tags": []
          },
          "execution_count": 27
        }
      ]
    },
    {
      "cell_type": "code",
      "metadata": {
        "colab": {
          "base_uri": "https://localhost:8080/"
        },
        "id": "hiXk6yYyPrzv",
        "outputId": "f7cd6d6e-9b3a-417c-ba7f-e4ae38a541ea"
      },
      "source": [
        "fd_w_bible.get('the')"
      ],
      "execution_count": null,
      "outputs": [
        {
          "output_type": "execute_result",
          "data": {
            "text/plain": [
              "62103"
            ]
          },
          "metadata": {
            "tags": []
          },
          "execution_count": 28
        }
      ]
    },
    {
      "cell_type": "markdown",
      "metadata": {
        "id": "XwbrjwkMP9zV"
      },
      "source": [
        "# Conditional Frequency Distribution"
      ]
    },
    {
      "cell_type": "code",
      "metadata": {
        "id": "HdP39xdPQKRb"
      },
      "source": [
        "ll = [('cat1', 'good'),('cat2','bad'),('cat1','good') ] # list of tuples having category 1 and category 2"
      ],
      "execution_count": null,
      "outputs": []
    },
    {
      "cell_type": "code",
      "metadata": {
        "id": "C-iV_gS0Qk5q"
      },
      "source": [
        "cfd = ConditionalFreqDist(ll)"
      ],
      "execution_count": null,
      "outputs": []
    },
    {
      "cell_type": "code",
      "metadata": {
        "colab": {
          "base_uri": "https://localhost:8080/"
        },
        "id": "dUUA6PTSQod7",
        "outputId": "490ab6c8-80a2-445e-876b-786129283149"
      },
      "source": [
        "cfd"
      ],
      "execution_count": null,
      "outputs": [
        {
          "output_type": "execute_result",
          "data": {
            "text/plain": [
              "ConditionalFreqDist(nltk.probability.FreqDist,\n",
              "                    {'cat1': FreqDist({'good': 2}),\n",
              "                     'cat2': FreqDist({'bad': 1})})"
            ]
          },
          "metadata": {
            "tags": []
          },
          "execution_count": 31
        }
      ]
    },
    {
      "cell_type": "code",
      "metadata": {
        "colab": {
          "base_uri": "https://localhost:8080/"
        },
        "id": "jzdGLeFyQqCL",
        "outputId": "d8e4281d-14b1-4d61-cb52-34d8d0579f5f"
      },
      "source": [
        "cfd['cat1']"
      ],
      "execution_count": null,
      "outputs": [
        {
          "output_type": "execute_result",
          "data": {
            "text/plain": [
              "FreqDist({'good': 2})"
            ]
          },
          "metadata": {
            "tags": []
          },
          "execution_count": 32
        }
      ]
    },
    {
      "cell_type": "code",
      "metadata": {
        "id": "o1ArsAZ5QvIs",
        "colab": {
          "base_uri": "https://localhost:8080/"
        },
        "outputId": "def97dfb-88e9-4939-f506-c67f0ca914aa"
      },
      "source": [
        "cfd = ConditionalFreqDist(\n",
        "    (genre, word)\n",
        "    for genre in brown.categories()\n",
        "    for word in brown.words(categories=genre))\n",
        "genres = ['news','religion','hobbies','science_fiction','romance','humor']\n",
        "modals = ['can','could','may','might','must','will']\n",
        "cfd.tabulate(conditions = genres,samples = modals)"
      ],
      "execution_count": null,
      "outputs": [
        {
          "output_type": "stream",
          "text": [
            "                  can could   may might  must  will \n",
            "           news    93    86    66    38    50   389 \n",
            "       religion    82    59    78    12    54    71 \n",
            "        hobbies   268    58   131    22    83   264 \n",
            "science_fiction    16    49     4    12     8    16 \n",
            "        romance    74   193    11    51    45    43 \n",
            "          humor    16    30     8     8     9    13 \n"
          ],
          "name": "stdout"
        }
      ]
    },
    {
      "cell_type": "markdown",
      "metadata": {
        "id": "Q8C4XVUmFZNZ"
      },
      "source": [
        "# Names and Last Letter\n",
        "Hypothesis - More female names end in letter R than male names"
      ]
    },
    {
      "cell_type": "code",
      "metadata": {
        "id": "u5Ge3jKzE4ft"
      },
      "source": [
        "from nltk.corpus import names"
      ],
      "execution_count": null,
      "outputs": []
    },
    {
      "cell_type": "code",
      "metadata": {
        "id": "MrJR-BatF0Dc"
      },
      "source": [
        "# list of tuples\n",
        "l_names = ([('male',name[-1]) for name in names.words('male.txt')] +\n",
        "           [('female',name[-1]) for name in names.words('female.txt')])"
      ],
      "execution_count": null,
      "outputs": []
    },
    {
      "cell_type": "code",
      "metadata": {
        "id": "aWDgpEhhGTqH"
      },
      "source": [
        "cfd_names = ConditionalFreqDist(l_names)\n"
      ],
      "execution_count": null,
      "outputs": []
    },
    {
      "cell_type": "code",
      "metadata": {
        "colab": {
          "base_uri": "https://localhost:8080/"
        },
        "id": "jY6IOOe5IL7m",
        "outputId": "fca2c30b-2632-4802-d6af-ca78071d84fe"
      },
      "source": [
        "cfd_names"
      ],
      "execution_count": null,
      "outputs": [
        {
          "output_type": "execute_result",
          "data": {
            "text/plain": [
              "ConditionalFreqDist(nltk.probability.FreqDist,\n",
              "                    {'female': FreqDist({' ': 1,\n",
              "                               'a': 1773,\n",
              "                               'b': 9,\n",
              "                               'd': 39,\n",
              "                               'e': 1432,\n",
              "                               'f': 2,\n",
              "                               'g': 10,\n",
              "                               'h': 105,\n",
              "                               'i': 317,\n",
              "                               'j': 1,\n",
              "                               'k': 3,\n",
              "                               'l': 179,\n",
              "                               'm': 13,\n",
              "                               'n': 386,\n",
              "                               'o': 33,\n",
              "                               'p': 2,\n",
              "                               'r': 47,\n",
              "                               's': 93,\n",
              "                               't': 68,\n",
              "                               'u': 6,\n",
              "                               'v': 2,\n",
              "                               'w': 5,\n",
              "                               'x': 10,\n",
              "                               'y': 461,\n",
              "                               'z': 4}),\n",
              "                     'male': FreqDist({'a': 29,\n",
              "                               'b': 21,\n",
              "                               'c': 25,\n",
              "                               'd': 228,\n",
              "                               'e': 468,\n",
              "                               'f': 25,\n",
              "                               'g': 32,\n",
              "                               'h': 93,\n",
              "                               'i': 50,\n",
              "                               'j': 3,\n",
              "                               'k': 69,\n",
              "                               'l': 187,\n",
              "                               'm': 70,\n",
              "                               'n': 478,\n",
              "                               'o': 165,\n",
              "                               'p': 18,\n",
              "                               'r': 190,\n",
              "                               's': 230,\n",
              "                               't': 164,\n",
              "                               'u': 12,\n",
              "                               'v': 16,\n",
              "                               'w': 17,\n",
              "                               'x': 10,\n",
              "                               'y': 332,\n",
              "                               'z': 11})})"
            ]
          },
          "metadata": {
            "tags": []
          },
          "execution_count": 41
        }
      ]
    },
    {
      "cell_type": "code",
      "metadata": {
        "colab": {
          "base_uri": "https://localhost:8080/"
        },
        "id": "L8eZVn35ISxA",
        "outputId": "94f2abe1-feb9-41af-cff0-4ca511d04e04"
      },
      "source": [
        "type(cfd_names)"
      ],
      "execution_count": null,
      "outputs": [
        {
          "output_type": "execute_result",
          "data": {
            "text/plain": [
              "nltk.probability.ConditionalFreqDist"
            ]
          },
          "metadata": {
            "tags": []
          },
          "execution_count": 42
        }
      ]
    },
    {
      "cell_type": "code",
      "metadata": {
        "colab": {
          "base_uri": "https://localhost:8080/",
          "height": 279
        },
        "id": "SjMRPwSuIZir",
        "outputId": "661d2b8e-b27f-4490-f8d2-f4b074830324"
      },
      "source": [
        "cfd_names.plot()"
      ],
      "execution_count": null,
      "outputs": [
        {
          "output_type": "display_data",
          "data": {
            "image/png": "[encoded data removed]",
            "text/plain": [
              "<Figure size 432x288 with 1 Axes>"
            ]
          },
          "metadata": {
            "tags": [],
            "needs_background": "light"
          }
        }
      ]
    },
    {
      "cell_type": "markdown",
      "metadata": {
        "id": "qb3dY5pEI6oo"
      },
      "source": [
        "# STEMMING\n",
        "\n",
        "walking, walkable, walk => walk"
      ]
    },
    {
      "cell_type": "code",
      "metadata": {
        "id": "PQWPLWQgIlNh"
      },
      "source": [
        " from nltk.stem import PorterStemmer"
      ],
      "execution_count": null,
      "outputs": []
    },
    {
      "cell_type": "code",
      "metadata": {
        "id": "kxbKZDeCJdkC"
      },
      "source": [
        "pstem = PorterStemmer()"
      ],
      "execution_count": null,
      "outputs": []
    },
    {
      "cell_type": "code",
      "metadata": {
        "colab": {
          "base_uri": "https://localhost:8080/",
          "height": 35
        },
        "id": "0-_odfjbJgNf",
        "outputId": "acb7baad-59aa-4852-f5ca-33a721da8097"
      },
      "source": [
        "pstem.stem('walking')"
      ],
      "execution_count": null,
      "outputs": [
        {
          "output_type": "execute_result",
          "data": {
            "application/vnd.google.colaboratory.intrinsic+json": {
              "type": "string"
            },
            "text/plain": [
              "'walk'"
            ]
          },
          "metadata": {
            "tags": []
          },
          "execution_count": 46
        }
      ]
    },
    {
      "cell_type": "code",
      "metadata": {
        "id": "hwG5YUnJJpWO"
      },
      "source": [
        " from nltk.stem import LancasterStemmer"
      ],
      "execution_count": null,
      "outputs": []
    },
    {
      "cell_type": "code",
      "metadata": {
        "id": "V4N0sxprJx5B"
      },
      "source": [
        "lst = LancasterStemmer()"
      ],
      "execution_count": null,
      "outputs": []
    },
    {
      "cell_type": "code",
      "metadata": {
        "colab": {
          "base_uri": "https://localhost:8080/",
          "height": 35
        },
        "id": "JA9eLAltJ4xZ",
        "outputId": "5a1a16c3-29e2-4bf4-fce4-4c15af56184d"
      },
      "source": [
        "lst.stem('presumably')"
      ],
      "execution_count": null,
      "outputs": [
        {
          "output_type": "execute_result",
          "data": {
            "application/vnd.google.colaboratory.intrinsic+json": {
              "type": "string"
            },
            "text/plain": [
              "'presum'"
            ]
          },
          "metadata": {
            "tags": []
          },
          "execution_count": 50
        }
      ]
    },
    {
      "cell_type": "code",
      "metadata": {
        "colab": {
          "base_uri": "https://localhost:8080/",
          "height": 35
        },
        "id": "5U2qOpVEKBoS",
        "outputId": "36a2d7d8-ff90-4b59-8af8-38ed9dde23f9"
      },
      "source": [
        "lst.stem('maximum')"
      ],
      "execution_count": null,
      "outputs": [
        {
          "output_type": "execute_result",
          "data": {
            "application/vnd.google.colaboratory.intrinsic+json": {
              "type": "string"
            },
            "text/plain": [
              "'maxim'"
            ]
          },
          "metadata": {
            "tags": []
          },
          "execution_count": 51
        }
      ]
    },
    {
      "cell_type": "markdown",
      "metadata": {
        "id": "30dFnhVnKXC9"
      },
      "source": [
        "# Custom Stemmers\n",
        "<br>Make your own stemmers using regular expressions"
      ]
    },
    {
      "cell_type": "code",
      "metadata": {
        "id": "veaL1fcRKiJk"
      },
      "source": [
        "rst = RegexpStemmer(r'ing$|s$|e$|able$')"
      ],
      "execution_count": null,
      "outputs": []
    },
    {
      "cell_type": "code",
      "metadata": {
        "colab": {
          "base_uri": "https://localhost:8080/",
          "height": 35
        },
        "id": "y0myIFzbK7eX",
        "outputId": "4597f43b-b408-47bd-b0d3-65e57544fd8d"
      },
      "source": [
        "rst.stem('controllable')"
      ],
      "execution_count": null,
      "outputs": [
        {
          "output_type": "execute_result",
          "data": {
            "application/vnd.google.colaboratory.intrinsic+json": {
              "type": "string"
            },
            "text/plain": [
              "'controll'"
            ]
          },
          "metadata": {
            "tags": []
          },
          "execution_count": 54
        }
      ]
    },
    {
      "cell_type": "markdown",
      "metadata": {
        "id": "ihfacaT6MWgb"
      },
      "source": [
        "# Lemmatization\n",
        "<br> \n",
        "Lemmatizers use WordNet corpus<br>\n",
        "They try to find the root of the similar words using meaning of the words <br>\n",
        "WordNet has hyponyms, hypernyms, synonyms and antonyms"
      ]
    },
    {
      "cell_type": "code",
      "metadata": {
        "id": "_5OeZp1DK_np"
      },
      "source": [
        " from nltk.corpus import wordnet as wn"
      ],
      "execution_count": null,
      "outputs": []
    },
    {
      "cell_type": "code",
      "metadata": {
        "colab": {
          "base_uri": "https://localhost:8080/"
        },
        "id": "MuJNNkteN32w",
        "outputId": "df7ede60-4b0f-4387-eee7-89f67aa5d04b"
      },
      "source": [
        "wn.synsets('spoke')"
      ],
      "execution_count": null,
      "outputs": [
        {
          "output_type": "execute_result",
          "data": {
            "text/plain": [
              "[Synset('spoke.n.01'),\n",
              " Synset('rundle.n.01'),\n",
              " Synset('talk.v.02'),\n",
              " Synset('talk.v.01'),\n",
              " Synset('speak.v.03'),\n",
              " Synset('address.v.02'),\n",
              " Synset('speak.v.05')]"
            ]
          },
          "metadata": {
            "tags": []
          },
          "execution_count": 60
        }
      ]
    },
    {
      "cell_type": "code",
      "metadata": {
        "colab": {
          "base_uri": "https://localhost:8080/",
          "height": 35
        },
        "id": "ctcf4bFzNiDB",
        "outputId": "aef7f70e-d852-46ef-bcb6-407438c8afc3"
      },
      "source": [
        "wn.synset('talk.v.01').definition() # synset is set of synomyms"
      ],
      "execution_count": null,
      "outputs": [
        {
          "output_type": "execute_result",
          "data": {
            "application/vnd.google.colaboratory.intrinsic+json": {
              "type": "string"
            },
            "text/plain": [
              "'exchange thoughts; talk with'"
            ]
          },
          "metadata": {
            "tags": []
          },
          "execution_count": 58
        }
      ]
    },
    {
      "cell_type": "code",
      "metadata": {
        "id": "D48RFPq9NpAz"
      },
      "source": [
        " from nltk.stem import WordNetLemmatizer"
      ],
      "execution_count": null,
      "outputs": []
    },
    {
      "cell_type": "code",
      "metadata": {
        "id": "MvuUi8Q9O7m5"
      },
      "source": [
        "wnl = WordNetLemmatizer()"
      ],
      "execution_count": null,
      "outputs": []
    },
    {
      "cell_type": "code",
      "metadata": {
        "colab": {
          "base_uri": "https://localhost:8080/",
          "height": 35
        },
        "id": "duHR455cO-kQ",
        "outputId": "059f8519-ab70-4c7a-a904-e672352dda27"
      },
      "source": [
        "wnl.lemmatize('spoken') # doesn't give the expected root\n",
        "# we have to make  "
      ],
      "execution_count": null,
      "outputs": [
        {
          "output_type": "execute_result",
          "data": {
            "application/vnd.google.colaboratory.intrinsic+json": {
              "type": "string"
            },
            "text/plain": [
              "'spoken'"
            ]
          },
          "metadata": {
            "tags": []
          },
          "execution_count": 63
        }
      ]
    },
    {
      "cell_type": "code",
      "metadata": {
        "colab": {
          "base_uri": "https://localhost:8080/",
          "height": 35
        },
        "id": "onEcOOMVPBhn",
        "outputId": "42ab0c22-dc58-46a7-f027-f029450bd444"
      },
      "source": [
        "wnl.lemmatize('spoken','v') # the default setting was a noun. Now we have changed it to "
      ],
      "execution_count": null,
      "outputs": [
        {
          "output_type": "execute_result",
          "data": {
            "application/vnd.google.colaboratory.intrinsic+json": {
              "type": "string"
            },
            "text/plain": [
              "'speak'"
            ]
          },
          "metadata": {
            "tags": []
          },
          "execution_count": 64
        }
      ]
    },
    {
      "cell_type": "code",
      "metadata": {
        "colab": {
          "base_uri": "https://localhost:8080/",
          "height": 35
        },
        "id": "X4qJGutbPxm0",
        "outputId": "007bca90-f2c0-4d4e-b552-cb3d8c65c6fc"
      },
      "source": [
        "wnl.lemmatize('worst','a')"
      ],
      "execution_count": null,
      "outputs": [
        {
          "output_type": "execute_result",
          "data": {
            "application/vnd.google.colaboratory.intrinsic+json": {
              "type": "string"
            },
            "text/plain": [
              "'bad'"
            ]
          },
          "metadata": {
            "tags": []
          },
          "execution_count": 65
        }
      ]
    },
    {
      "cell_type": "markdown",
      "metadata": {
        "id": "I2dNtOqnQWOp"
      },
      "source": [
        "# Tokenization"
      ]
    },
    {
      "cell_type": "code",
      "metadata": {
        "id": "HYYQsbIgQBtH"
      },
      "source": [
        "from nltk.tokenize import word_tokenize, sent_tokenize"
      ],
      "execution_count": null,
      "outputs": []
    },
    {
      "cell_type": "code",
      "metadata": {
        "id": "HXYahnTBTUz-"
      },
      "source": [
        "from nltk.corpus import gutenberg"
      ],
      "execution_count": null,
      "outputs": []
    },
    {
      "cell_type": "code",
      "metadata": {
        "colab": {
          "base_uri": "https://localhost:8080/"
        },
        "id": "WZfptMLxWY3S",
        "outputId": "8b1055cc-910a-4baf-b0fe-5f28fd244570"
      },
      "source": [
        "gutenberg.fileids()"
      ],
      "execution_count": null,
      "outputs": [
        {
          "output_type": "execute_result",
          "data": {
            "text/plain": [
              "['austen-emma.txt',\n",
              " 'austen-persuasion.txt',\n",
              " 'austen-sense.txt',\n",
              " 'bible-kjv.txt',\n",
              " 'blake-poems.txt',\n",
              " 'bryant-stories.txt',\n",
              " 'burgess-busterbrown.txt',\n",
              " 'carroll-alice.txt',\n",
              " 'chesterton-ball.txt',\n",
              " 'chesterton-brown.txt',\n",
              " 'chesterton-thursday.txt',\n",
              " 'edgeworth-parents.txt',\n",
              " 'melville-moby_dick.txt',\n",
              " 'milton-paradise.txt',\n",
              " 'shakespeare-caesar.txt',\n",
              " 'shakespeare-hamlet.txt',\n",
              " 'shakespeare-macbeth.txt',\n",
              " 'whitman-leaves.txt']"
            ]
          },
          "metadata": {
            "tags": []
          },
          "execution_count": 68
        }
      ]
    },
    {
      "cell_type": "code",
      "metadata": {
        "id": "Sae8XiTHWdVt"
      },
      "source": [
        "r = gutenberg.raw(['austen-emma.txt'])"
      ],
      "execution_count": null,
      "outputs": []
    },
    {
      "cell_type": "code",
      "metadata": {
        "id": "EboxiokVWpEg"
      },
      "source": [
        "emma = r[50:477]"
      ],
      "execution_count": null,
      "outputs": []
    },
    {
      "cell_type": "code",
      "metadata": {
        "colab": {
          "base_uri": "https://localhost:8080/",
          "height": 105
        },
        "id": "wKpmcm6LWxF3",
        "outputId": "8accbb23-a4d0-4672-a647-b85c0a816a73"
      },
      "source": [
        "emma"
      ],
      "execution_count": null,
      "outputs": [
        {
          "output_type": "execute_result",
          "data": {
            "application/vnd.google.colaboratory.intrinsic+json": {
              "type": "string"
            },
            "text/plain": [
              "\"Emma Woodhouse, handsome, clever, and rich, with a comfortable home\\nand happy disposition, seemed to unite some of the best blessings\\nof existence; and had lived nearly twenty-one years in the world\\nwith very little to distress or vex her.\\n\\nShe was the youngest of the two daughters of a most affectionate,\\nindulgent father; and had, in consequence of her sister's marriage,\\nbeen mistress of his house from a very early period.\""
            ]
          },
          "metadata": {
            "tags": []
          },
          "execution_count": 71
        }
      ]
    },
    {
      "cell_type": "code",
      "metadata": {
        "id": "-1kAss7eWxyI"
      },
      "source": [
        "s = sent_tokenize(emma)"
      ],
      "execution_count": null,
      "outputs": []
    },
    {
      "cell_type": "code",
      "metadata": {
        "colab": {
          "base_uri": "https://localhost:8080/"
        },
        "id": "CwXQmOJIW3Kl",
        "outputId": "6bd62813-e6ca-4638-d8c3-2c2b0a537f80"
      },
      "source": [
        "len(s)"
      ],
      "execution_count": null,
      "outputs": [
        {
          "output_type": "execute_result",
          "data": {
            "text/plain": [
              "2"
            ]
          },
          "metadata": {
            "tags": []
          },
          "execution_count": 73
        }
      ]
    },
    {
      "cell_type": "code",
      "metadata": {
        "colab": {
          "base_uri": "https://localhost:8080/",
          "height": 70
        },
        "id": "W4zZdf-1W7UV",
        "outputId": "d9374f69-bebc-4e07-be5c-1146628b5ff5"
      },
      "source": [
        "s[0]"
      ],
      "execution_count": null,
      "outputs": [
        {
          "output_type": "execute_result",
          "data": {
            "application/vnd.google.colaboratory.intrinsic+json": {
              "type": "string"
            },
            "text/plain": [
              "'Emma Woodhouse, handsome, clever, and rich, with a comfortable home\\nand happy disposition, seemed to unite some of the best blessings\\nof existence; and had lived nearly twenty-one years in the world\\nwith very little to distress or vex her.'"
            ]
          },
          "metadata": {
            "tags": []
          },
          "execution_count": 74
        }
      ]
    },
    {
      "cell_type": "code",
      "metadata": {
        "colab": {
          "base_uri": "https://localhost:8080/",
          "height": 70
        },
        "id": "dusMdTO6XH4q",
        "outputId": "bdbdf4f6-f376-42a1-f635-a4ba56d56cbe"
      },
      "source": [
        "s[1]"
      ],
      "execution_count": null,
      "outputs": [
        {
          "output_type": "execute_result",
          "data": {
            "application/vnd.google.colaboratory.intrinsic+json": {
              "type": "string"
            },
            "text/plain": [
              "\"She was the youngest of the two daughters of a most affectionate,\\nindulgent father; and had, in consequence of her sister's marriage,\\nbeen mistress of his house from a very early period.\""
            ]
          },
          "metadata": {
            "tags": []
          },
          "execution_count": 75
        }
      ]
    },
    {
      "cell_type": "code",
      "metadata": {
        "id": "ylqiMXkGXKD_"
      },
      "source": [
        "s1 = emma.split('.')"
      ],
      "execution_count": null,
      "outputs": []
    },
    {
      "cell_type": "code",
      "metadata": {
        "colab": {
          "base_uri": "https://localhost:8080/",
          "height": 70
        },
        "id": "bac2ZledXOkx",
        "outputId": "8e22ff4e-d5e6-40dc-decd-4922ad1e3d8e"
      },
      "source": [
        "s1[0]"
      ],
      "execution_count": null,
      "outputs": [
        {
          "output_type": "execute_result",
          "data": {
            "application/vnd.google.colaboratory.intrinsic+json": {
              "type": "string"
            },
            "text/plain": [
              "'Emma Woodhouse, handsome, clever, and rich, with a comfortable home\\nand happy disposition, seemed to unite some of the best blessings\\nof existence; and had lived nearly twenty-one years in the world\\nwith very little to distress or vex her'"
            ]
          },
          "metadata": {
            "tags": []
          },
          "execution_count": 77
        }
      ]
    },
    {
      "cell_type": "code",
      "metadata": {
        "id": "b1hvflwUXSS3",
        "colab": {
          "base_uri": "https://localhost:8080/",
          "height": 70
        },
        "outputId": "02a6ac98-dbdf-40d3-fc5e-89105e05334d"
      },
      "source": [
        "s1[1]"
      ],
      "execution_count": null,
      "outputs": [
        {
          "output_type": "execute_result",
          "data": {
            "application/vnd.google.colaboratory.intrinsic+json": {
              "type": "string"
            },
            "text/plain": [
              "\"\\n\\nShe was the youngest of the two daughters of a most affectionate,\\nindulgent father; and had, in consequence of her sister's marriage,\\nbeen mistress of his house from a very early period\""
            ]
          },
          "metadata": {
            "tags": []
          },
          "execution_count": 78
        }
      ]
    },
    {
      "cell_type": "code",
      "metadata": {
        "id": "VjQIz-M_XT-e"
      },
      "source": [
        ""
      ],
      "execution_count": null,
      "outputs": []
    }
  ]
}