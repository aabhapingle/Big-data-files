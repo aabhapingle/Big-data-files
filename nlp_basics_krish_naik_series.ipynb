{
  "nbformat": 4,
  "nbformat_minor": 0,
  "metadata": {
    "colab": {
      "name": "nlp basics - krish naik series.ipynb",
      "provenance": [],
      "collapsed_sections": [],
      "authorship_tag": "ABX9TyNUHX9ZAk2UVcPms6lrEMgp",
      "include_colab_link": true
    },
    "kernelspec": {
      "name": "python3",
      "display_name": "Python 3"
    },
    "language_info": {
      "name": "python"
    }
  },
  "cells": [
    {
      "cell_type": "markdown",
      "metadata": {
        "id": "view-in-github",
        "colab_type": "text"
      },
      "source": [
        "<a href=\"https://colab.research.google.com/github/aabhapingle/Big-data/blob/master/nlp_basics_krish_naik_series.ipynb\" target=\"_parent\"><img src=\"https://colab.research.google.com/assets/colab-badge.svg\" alt=\"Open In Colab\"/></a>"
      ]
    },
    {
      "cell_type": "code",
      "metadata": {
        "id": "pmUuPt7wZ6UU"
      },
      "source": [
        "import nltk"
      ],
      "execution_count": null,
      "outputs": []
    },
    {
      "cell_type": "code",
      "metadata": {
        "id": "wCQwgrYCaH0U"
      },
      "source": [
        "para = 'I stand here today humbled by the task before us, grateful for the trust you have bestowed, mindful of the sacrifices borne by our ancestors. I thank President Bush for his service to our nation, as well as the generosity and cooperation he has shown throughout this transition.Forty-four Americans have now taken the presidential oath. The words have been spoken during rising tides of prosperity and the still waters of peace. Yet, every so often the oath is taken amidst gathering clouds and raging storms. At these moments, America has carried on not simply because of the skill or vision of those in high office, but because We the People have remained faithful to the ideals of our forbearers, and true to our founding documents.So it has been. So it must be with this generation of Americans.That we are in the midst of crisis is now well understood. Our nation is at war, against a far-reaching network of violence and hatred. Our economy is badly weakened, a consequence of greed and irresponsibility on the part of some, but also our collective failure to make hard choices and prepare the nation for a new age. Homes have been lost; jobs shed; businesses shuttered. Our health care is too costly; our schools fail too many; and each day brings further evidence that the ways we use energy strengthen our adversaries and threaten our planet.These are the indicators of crisis, subject to data and statistics. Less measurable but no less profound is a sapping of confidence across our land - a nagging fear that America\\'s decline is inevitable, and that the next generation must lower its sights.Today I say to you that the challenges we face are real. They are serious and they are many. They will not be met easily or in a short span of time. But know this, America - they will be met.On this day, we gather because we have chosen hope over fear, unity of purpose over conflict and discord.On this day, we come to proclaim an end to the petty grievances and false promises, the recriminations and worn out dogmas, that for far too long have strangled our politics.We remain a young nation, but in the words of Scripture, the time has come to set aside childish things. The time has come to reaffirm our enduring spirit; to choose our better history; to carry forward that precious gift, that noble idea, passed on from generation to generation: the God-given promise that all are equal, all are free, and all deserve a chance to pursue their full measure of happiness.In reaffirming the greatness of our nation, we understand that greatness is never a given. It must be earned. Our journey has never been one of short-cuts or settling for less. It has not been the path for the faint-hearted - for those who prefer leisure over work, or seek only the pleasures of riches and fame. Rather, it has been the risk-takers, the doers, the makers of things - some celebrated but more often men and women obscure in their labor, who have carried us up the long, rugged path towards prosperity and freedom.For us, they packed up their few worldly possessions and traveled across oceans in search of a new life.For us, they toiled in sweatshops and settled the West; endured the lash of the whip and plowed the hard earth.For us, they fought and died, in places like Concord and Gettysburg; Normandy and Khe Sahn.'"
      ],
      "execution_count": null,
      "outputs": []
    },
    {
      "cell_type": "markdown",
      "metadata": {
        "id": "ge9jB_TienSI"
      },
      "source": [
        "# Cleaning the text"
      ]
    },
    {
      "cell_type": "code",
      "metadata": {
        "id": "3Lce89pKbGxw"
      },
      "source": [
        "import re"
      ],
      "execution_count": null,
      "outputs": []
    },
    {
      "cell_type": "code",
      "metadata": {
        "id": "Jv6p5nF-bHoo"
      },
      "source": [
        "from nltk.corpus import stopwords"
      ],
      "execution_count": null,
      "outputs": []
    },
    {
      "cell_type": "code",
      "metadata": {
        "id": "U9xpXim_bLHi"
      },
      "source": [
        "from nltk.stem.porter import PorterStemmer  # for stemming words"
      ],
      "execution_count": null,
      "outputs": []
    },
    {
      "cell_type": "code",
      "metadata": {
        "id": "MLmprItjbRqM"
      },
      "source": [
        "from nltk.stem import WordNetLemmatizer # for lemmatization , semantics wise"
      ],
      "execution_count": null,
      "outputs": []
    },
    {
      "cell_type": "code",
      "metadata": {
        "id": "vfECnzrkbdWd"
      },
      "source": [
        "ps = PorterStemmer()"
      ],
      "execution_count": null,
      "outputs": []
    },
    {
      "cell_type": "code",
      "metadata": {
        "colab": {
          "base_uri": "https://localhost:8080/"
        },
        "id": "QILAkLikuVPD",
        "outputId": "27460236-7192-4eae-8ac7-23cb55b33996"
      },
      "source": [
        "ps"
      ],
      "execution_count": null,
      "outputs": [
        {
          "output_type": "execute_result",
          "data": {
            "text/plain": [
              "<PorterStemmer>"
            ]
          },
          "metadata": {
            "tags": []
          },
          "execution_count": 8
        }
      ]
    },
    {
      "cell_type": "code",
      "metadata": {
        "id": "DljNYdEZbfnB"
      },
      "source": [
        "wordnet = WordNetLemmatizer()"
      ],
      "execution_count": null,
      "outputs": []
    },
    {
      "cell_type": "code",
      "metadata": {
        "colab": {
          "base_uri": "https://localhost:8080/"
        },
        "id": "amngGVfFdCJP",
        "outputId": "ef169b77-0bbf-4e12-a8a5-5e3d2a5d1993"
      },
      "source": [
        "nltk.download('punkt')"
      ],
      "execution_count": null,
      "outputs": [
        {
          "output_type": "stream",
          "text": [
            "[nltk_data] Downloading package punkt to /root/nltk_data...\n",
            "[nltk_data]   Unzipping tokenizers/punkt.zip.\n"
          ],
          "name": "stdout"
        },
        {
          "output_type": "execute_result",
          "data": {
            "text/plain": [
              "True"
            ]
          },
          "metadata": {
            "tags": []
          },
          "execution_count": 10
        }
      ]
    },
    {
      "cell_type": "code",
      "metadata": {
        "id": "ZgqD4cjlbiza"
      },
      "source": [
        "sentences = nltk.sent_tokenize(para) # convert whole para into sentences"
      ],
      "execution_count": null,
      "outputs": []
    },
    {
      "cell_type": "code",
      "metadata": {
        "colab": {
          "base_uri": "https://localhost:8080/"
        },
        "id": "WMpAXkT3urkq",
        "outputId": "d0515cfa-22bf-4437-bb34-ab295daf24ed"
      },
      "source": [
        "sentences[:3]"
      ],
      "execution_count": null,
      "outputs": [
        {
          "output_type": "execute_result",
          "data": {
            "text/plain": [
              "['I stand here today humbled by the task before us, grateful for the trust you have bestowed, mindful of the sacrifices borne by our ancestors.',\n",
              " 'I thank President Bush for his service to our nation, as well as the generosity and cooperation he has shown throughout this transition.Forty-four Americans have now taken the presidential oath.',\n",
              " 'The words have been spoken during rising tides of prosperity and the still waters of peace.']"
            ]
          },
          "metadata": {
            "tags": []
          },
          "execution_count": 12
        }
      ]
    },
    {
      "cell_type": "code",
      "metadata": {
        "id": "KMQySc9Oc-Mu"
      },
      "source": [
        "corpus = []"
      ],
      "execution_count": null,
      "outputs": []
    },
    {
      "cell_type": "code",
      "metadata": {
        "colab": {
          "base_uri": "https://localhost:8080/"
        },
        "id": "rmocvK9suX2B",
        "outputId": "e4be3b0e-3e56-4b21-ca52-582b6a6064c4"
      },
      "source": [
        "corpus[:3]"
      ],
      "execution_count": null,
      "outputs": [
        {
          "output_type": "execute_result",
          "data": {
            "text/plain": [
              "[]"
            ]
          },
          "metadata": {
            "tags": []
          },
          "execution_count": 14
        }
      ]
    },
    {
      "cell_type": "code",
      "metadata": {
        "colab": {
          "base_uri": "https://localhost:8080/"
        },
        "id": "Fnj7l49JebLJ",
        "outputId": "a6f0016f-fe71-4555-fea7-8b3013c17099"
      },
      "source": [
        "nltk.download('stopwords')"
      ],
      "execution_count": null,
      "outputs": [
        {
          "output_type": "stream",
          "text": [
            "[nltk_data] Downloading package stopwords to /root/nltk_data...\n",
            "[nltk_data]   Unzipping corpora/stopwords.zip.\n"
          ],
          "name": "stdout"
        },
        {
          "output_type": "execute_result",
          "data": {
            "text/plain": [
              "True"
            ]
          },
          "metadata": {
            "tags": []
          },
          "execution_count": 15
        }
      ]
    },
    {
      "cell_type": "code",
      "metadata": {
        "colab": {
          "base_uri": "https://localhost:8080/"
        },
        "id": "9Z7OUpzZHlAb",
        "outputId": "4f6acefe-b27b-4c61-94bb-69b411a5217f"
      },
      "source": [
        "nltk.download('wordnet')"
      ],
      "execution_count": null,
      "outputs": [
        {
          "output_type": "stream",
          "text": [
            "[nltk_data] Downloading package wordnet to /root/nltk_data...\n",
            "[nltk_data]   Unzipping corpora/wordnet.zip.\n"
          ],
          "name": "stdout"
        },
        {
          "output_type": "execute_result",
          "data": {
            "text/plain": [
              "True"
            ]
          },
          "metadata": {
            "tags": []
          },
          "execution_count": 16
        }
      ]
    },
    {
      "cell_type": "code",
      "metadata": {
        "id": "i1nETinmdHUO"
      },
      "source": [
        "for i in range(len(sentences)):\n",
        "  review = re.sub('[^a-zA-Z]',' ', sentences[i]) # remove everything apart from a-z and A-Z \n",
        "  review = review.lower() # lower case all the sentences\n",
        "  review = review.split() # split into words\n",
        "  review = [wordnet.lemmatize(word) for word in review if not word in set(stopwords.words('english'))]\n",
        "  review = ' '.join(review) # join all the reviews\n",
        "  corpus.append(review)\n",
        "                                                                "
      ],
      "execution_count": null,
      "outputs": []
    },
    {
      "cell_type": "code",
      "metadata": {
        "id": "lB1y0j20vA8I",
        "colab": {
          "base_uri": "https://localhost:8080/",
          "height": 70
        },
        "outputId": "44ede11a-a8aa-4309-e380-1fdfd230dc78"
      },
      "source": [
        "review"
      ],
      "execution_count": null,
      "outputs": [
        {
          "output_type": "execute_result",
          "data": {
            "application/vnd.google.colaboratory.intrinsic+json": {
              "type": "string"
            },
            "text/plain": [
              "'rather risk taker doer maker thing celebrated often men woman obscure labor carried u long rugged path towards prosperity freedom u packed worldly possession traveled across ocean search new life u toiled sweatshop settled west endured lash whip plowed hard earth u fought died place like concord gettysburg normandy khe sahn'"
            ]
          },
          "metadata": {
            "tags": []
          },
          "execution_count": 18
        }
      ]
    },
    {
      "cell_type": "markdown",
      "metadata": {
        "id": "psu94iF5egqf"
      },
      "source": [
        "# Creating the TF-IDF MODEL<br>\n",
        "TF = Term Frequency<br>\n",
        "IDF = Inverse Document Frequency"
      ]
    },
    {
      "cell_type": "code",
      "metadata": {
        "id": "7Fe54qhgeTHI"
      },
      "source": [
        "from sklearn.feature_extraction.text import TfidfVectorizer\n",
        "cv = TfidfVectorizer()\n",
        "X = cv.fit_transform(corpus).toarray()"
      ],
      "execution_count": null,
      "outputs": []
    },
    {
      "cell_type": "code",
      "metadata": {
        "colab": {
          "base_uri": "https://localhost:8080/"
        },
        "id": "UTQds2mDuBru",
        "outputId": "7225e6a9-1b00-4dcd-b142-804894bccc8e"
      },
      "source": [
        "X"
      ],
      "execution_count": null,
      "outputs": [
        {
          "output_type": "execute_result",
          "data": {
            "text/plain": [
              "array([[0.        , 0.        , 0.        , ..., 0.        , 0.        ,\n",
              "        0.        ],\n",
              "       [0.        , 0.        , 0.        , ..., 0.        , 0.        ,\n",
              "        0.        ],\n",
              "       [0.        , 0.        , 0.        , ..., 0.        , 0.        ,\n",
              "        0.        ],\n",
              "       ...,\n",
              "       [0.        , 0.        , 0.        , ..., 0.        , 0.        ,\n",
              "        0.        ],\n",
              "       [0.        , 0.        , 0.        , ..., 0.        , 0.        ,\n",
              "        0.        ],\n",
              "       [0.13087743, 0.        , 0.        , ..., 0.        , 0.        ,\n",
              "        0.        ]])"
            ]
          },
          "metadata": {
            "tags": []
          },
          "execution_count": 20
        }
      ]
    },
    {
      "cell_type": "markdown",
      "metadata": {
        "id": "KUgTUbcYHsz-"
      },
      "source": [
        "Word to Vector Conversion"
      ]
    },
    {
      "cell_type": "code",
      "metadata": {
        "id": "HhpqVta3uKWQ"
      },
      "source": [
        "from gensim.models import Word2Vec"
      ],
      "execution_count": null,
      "outputs": []
    },
    {
      "cell_type": "code",
      "metadata": {
        "id": "cqYnFdvPH63O"
      },
      "source": [
        "import re"
      ],
      "execution_count": null,
      "outputs": []
    },
    {
      "cell_type": "code",
      "metadata": {
        "id": "s_jHGo4OKVFw"
      },
      "source": [
        "paragraph = \"\"\" A Hare was making fun of the Tortoise one day for being so slow.\n",
        "\"Do you ever get anywhere?\" he asked with a mocking laugh.\n",
        "\"Yes,\" replied the Tortoise, \"and I get there sooner than you think. I'll run you a race and prove it.\"\n",
        "The Hare was much amused at the idea of running a race with the Tortoise, but for the fun of the thing he agreed. So the Fox, who had consented to act as judge, marked the distance and started the runners off.\n",
        "The Hare was soon far out of sight, and to make the Tortoise feel very deeply how ridiculous it was for him to try a race with a Hare, he lay down beside the course to take a nap until the Tortoise should catch up.\n",
        "The Tortoise meanwhile kept going slowly but steadily, and, after a time, passed the place where the Hare was sleeping. But the Hare slept on very peacefully; and when at last he did wake up, the Tortoise was near the goal. The Hare now ran his swiftest, but he could not overtake the Tortoise in time.\"\"\""
      ],
      "execution_count": null,
      "outputs": []
    },
    {
      "cell_type": "code",
      "metadata": {
        "colab": {
          "base_uri": "https://localhost:8080/",
          "height": 176
        },
        "id": "5rXk1bqQMBCu",
        "outputId": "128a8a6e-8c26-4d07-efc6-3aa5840fcff1"
      },
      "source": [
        "text"
      ],
      "execution_count": null,
      "outputs": [
        {
          "output_type": "execute_result",
          "data": {
            "application/vnd.google.colaboratory.intrinsic+json": {
              "type": "string"
            },
            "text/plain": [
              "' A Hare was making fun of the Tortoise one day for being so slow.\\n\"Do you ever get anywhere?\" he asked with a mocking laugh.\\n\"Yes,\" replied the Tortoise, \"and I get there sooner than you think. I\\'ll run you a race and prove it.\"\\nThe Hare was much amused at the idea of running a race with the Tortoise, but for the fun of the thing he agreed. So the Fox, who had consented to act as judge, marked the distance and started the runners off.\\nThe Hare was soon far out of sight, and to make the Tortoise feel very deeply how ridiculous it was for him to try a race with a Hare, he lay down beside the course to take a nap until the Tortoise should catch up.\\nThe Tortoise meanwhile kept going slowly but steadily, and, after a time, passed the place where the Hare was sleeping. But the Hare slept on very peacefully; and when at last he did wake up, the Tortoise was near the goal. The Hare now ran his swiftest, but he could not overtake the Tortoise in time.'"
            ]
          },
          "metadata": {
            "tags": []
          },
          "execution_count": 27
        }
      ]
    },
    {
      "cell_type": "markdown",
      "metadata": {
        "id": "vCY5IgGwLDeO"
      },
      "source": [
        "Preprocessing the data"
      ]
    },
    {
      "cell_type": "code",
      "metadata": {
        "id": "BrrGWaaoLCZz"
      },
      "source": [
        "text = re.sub(r'\\[[0-9]*\\]', ' ', paragraph)"
      ],
      "execution_count": null,
      "outputs": []
    },
    {
      "cell_type": "code",
      "metadata": {
        "colab": {
          "base_uri": "https://localhost:8080/",
          "height": 176
        },
        "id": "gZPk1E1mL7F6",
        "outputId": "156d9684-51a5-4aaa-9020-e3c335664b28"
      },
      "source": [
        "text"
      ],
      "execution_count": null,
      "outputs": [
        {
          "output_type": "execute_result",
          "data": {
            "application/vnd.google.colaboratory.intrinsic+json": {
              "type": "string"
            },
            "text/plain": [
              "' A Hare was making fun of the Tortoise one day for being so slow.\\n\"Do you ever get anywhere?\" he asked with a mocking laugh.\\n\"Yes,\" replied the Tortoise, \"and I get there sooner than you think. I\\'ll run you a race and prove it.\"\\nThe Hare was much amused at the idea of running a race with the Tortoise, but for the fun of the thing he agreed. So the Fox, who had consented to act as judge, marked the distance and started the runners off.\\nThe Hare was soon far out of sight, and to make the Tortoise feel very deeply how ridiculous it was for him to try a race with a Hare, he lay down beside the course to take a nap until the Tortoise should catch up.\\nThe Tortoise meanwhile kept going slowly but steadily, and, after a time, passed the place where the Hare was sleeping. But the Hare slept on very peacefully; and when at last he did wake up, the Tortoise was near the goal. The Hare now ran his swiftest, but he could not overtake the Tortoise in time.'"
            ]
          },
          "metadata": {
            "tags": []
          },
          "execution_count": 25
        }
      ]
    },
    {
      "cell_type": "code",
      "metadata": {
        "id": "AumSZWFsL8tb"
      },
      "source": [
        "text = re.sub(r'\\s+', ' ', text)"
      ],
      "execution_count": null,
      "outputs": []
    },
    {
      "cell_type": "code",
      "metadata": {
        "colab": {
          "base_uri": "https://localhost:8080/",
          "height": 176
        },
        "id": "vAJwkwvWMNry",
        "outputId": "cb4d9cc2-df22-4564-c2f3-57db8d7dd2d9"
      },
      "source": [
        "text"
      ],
      "execution_count": null,
      "outputs": [
        {
          "output_type": "execute_result",
          "data": {
            "application/vnd.google.colaboratory.intrinsic+json": {
              "type": "string"
            },
            "text/plain": [
              "' A Hare was making fun of the Tortoise one day for being so slow. \"Do you ever get anywhere?\" he asked with a mocking laugh. \"Yes,\" replied the Tortoise, \"and I get there sooner than you think. I\\'ll run you a race and prove it.\" The Hare was much amused at the idea of running a race with the Tortoise, but for the fun of the thing he agreed. So the Fox, who had consented to act as judge, marked the distance and started the runners off. The Hare was soon far out of sight, and to make the Tortoise feel very deeply how ridiculous it was for him to try a race with a Hare, he lay down beside the course to take a nap until the Tortoise should catch up. The Tortoise meanwhile kept going slowly but steadily, and, after a time, passed the place where the Hare was sleeping. But the Hare slept on very peacefully; and when at last he did wake up, the Tortoise was near the goal. The Hare now ran his swiftest, but he could not overtake the Tortoise in time.'"
            ]
          },
          "metadata": {
            "tags": []
          },
          "execution_count": 29
        }
      ]
    },
    {
      "cell_type": "code",
      "metadata": {
        "id": "C5uYEK3rMO3J"
      },
      "source": [
        "text = text.lower()"
      ],
      "execution_count": null,
      "outputs": []
    },
    {
      "cell_type": "code",
      "metadata": {
        "colab": {
          "base_uri": "https://localhost:8080/",
          "height": 176
        },
        "id": "1Acsv_lMMSAx",
        "outputId": "ab1a04f6-52fb-4c8e-b5d2-581f6a73e702"
      },
      "source": [
        "text"
      ],
      "execution_count": null,
      "outputs": [
        {
          "output_type": "execute_result",
          "data": {
            "application/vnd.google.colaboratory.intrinsic+json": {
              "type": "string"
            },
            "text/plain": [
              "' a hare was making fun of the tortoise one day for being so slow. \"do you ever get anywhere?\" he asked with a mocking laugh. \"yes,\" replied the tortoise, \"and i get there sooner than you think. i\\'ll run you a race and prove it.\" the hare was much amused at the idea of running a race with the tortoise, but for the fun of the thing he agreed. so the fox, who had consented to act as judge, marked the distance and started the runners off. the hare was soon far out of sight, and to make the tortoise feel very deeply how ridiculous it was for him to try a race with a hare, he lay down beside the course to take a nap until the tortoise should catch up. the tortoise meanwhile kept going slowly but steadily, and, after a time, passed the place where the hare was sleeping. but the hare slept on very peacefully; and when at last he did wake up, the tortoise was near the goal. the hare now ran his swiftest, but he could not overtake the tortoise in time.'"
            ]
          },
          "metadata": {
            "tags": []
          },
          "execution_count": 31
        }
      ]
    },
    {
      "cell_type": "code",
      "metadata": {
        "id": "5lgR2Kh5MTLc"
      },
      "source": [
        "text = re.sub(r'\\d',' ',text)"
      ],
      "execution_count": null,
      "outputs": []
    },
    {
      "cell_type": "code",
      "metadata": {
        "id": "CIM0eP9bPtJu"
      },
      "source": [
        "text = re.sub(r'\\s+', ' ', text)"
      ],
      "execution_count": null,
      "outputs": []
    },
    {
      "cell_type": "markdown",
      "metadata": {
        "id": "0lac7zTpP2dX"
      },
      "source": [
        "Preparing the dataset"
      ]
    },
    {
      "cell_type": "code",
      "metadata": {
        "id": "gcu_jzzsPv0p"
      },
      "source": [
        "sentences = nltk.sent_tokenize(text)"
      ],
      "execution_count": null,
      "outputs": []
    },
    {
      "cell_type": "code",
      "metadata": {
        "colab": {
          "base_uri": "https://localhost:8080/"
        },
        "id": "wU1AJcq0QAT4",
        "outputId": "408f49a3-e99f-4c72-d55a-c011f8a7c5b5"
      },
      "source": [
        "sentences"
      ],
      "execution_count": null,
      "outputs": [
        {
          "output_type": "execute_result",
          "data": {
            "text/plain": [
              "[' a hare was making fun of the tortoise one day for being so slow.',\n",
              " '\"do you ever get anywhere?\"',\n",
              " 'he asked with a mocking laugh.',\n",
              " '\"yes,\" replied the tortoise, \"and i get there sooner than you think.',\n",
              " 'i\\'ll run you a race and prove it.\"',\n",
              " 'the hare was much amused at the idea of running a race with the tortoise, but for the fun of the thing he agreed.',\n",
              " 'so the fox, who had consented to act as judge, marked the distance and started the runners off.',\n",
              " 'the hare was soon far out of sight, and to make the tortoise feel very deeply how ridiculous it was for him to try a race with a hare, he lay down beside the course to take a nap until the tortoise should catch up.',\n",
              " 'the tortoise meanwhile kept going slowly but steadily, and, after a time, passed the place where the hare was sleeping.',\n",
              " 'but the hare slept on very peacefully; and when at last he did wake up, the tortoise was near the goal.',\n",
              " 'the hare now ran his swiftest, but he could not overtake the tortoise in time.']"
            ]
          },
          "metadata": {
            "tags": []
          },
          "execution_count": 35
        }
      ]
    },
    {
      "cell_type": "code",
      "metadata": {
        "id": "7LANjCOOQBjC"
      },
      "source": [
        "sentences = [nltk.word_tokenize(sentence) for sentence in sentences]"
      ],
      "execution_count": null,
      "outputs": []
    },
    {
      "cell_type": "code",
      "metadata": {
        "colab": {
          "base_uri": "https://localhost:8080/"
        },
        "id": "NYlmbDq_QMuq",
        "outputId": "9d2a227d-4750-4223-b08f-e8a5bf31ed06"
      },
      "source": [
        "sentences[:2]"
      ],
      "execution_count": null,
      "outputs": [
        {
          "output_type": "execute_result",
          "data": {
            "text/plain": [
              "[['a',\n",
              "  'hare',\n",
              "  'was',\n",
              "  'making',\n",
              "  'fun',\n",
              "  'of',\n",
              "  'the',\n",
              "  'tortoise',\n",
              "  'one',\n",
              "  'day',\n",
              "  'for',\n",
              "  'being',\n",
              "  'so',\n",
              "  'slow',\n",
              "  '.'],\n",
              " ['``', 'do', 'you', 'ever', 'get', 'anywhere', '?', \"''\"]]"
            ]
          },
          "metadata": {
            "tags": []
          },
          "execution_count": 38
        }
      ]
    },
    {
      "cell_type": "code",
      "metadata": {
        "id": "T1ps5lBzQNsB"
      },
      "source": [
        "for i in range(len(sentences)):\n",
        "  sentences[i] = [word for word in sentences[i] if word not in stopwords.words('english')]"
      ],
      "execution_count": null,
      "outputs": []
    },
    {
      "cell_type": "code",
      "metadata": {
        "id": "-VZVlqB7Q0Im"
      },
      "source": [
        "# Training the Word2Vec model"
      ],
      "execution_count": null,
      "outputs": []
    },
    {
      "cell_type": "code",
      "metadata": {
        "id": "RQVuShfdQ7IH"
      },
      "source": [
        "model = Word2Vec(sentences, min_count = 1) # if word is present less than min_count times then just remove the word "
      ],
      "execution_count": null,
      "outputs": []
    },
    {
      "cell_type": "code",
      "metadata": {
        "id": "phKeGoO2RCiQ"
      },
      "source": [
        "words = model.wv.vocab"
      ],
      "execution_count": null,
      "outputs": []
    },
    {
      "cell_type": "code",
      "metadata": {
        "colab": {
          "base_uri": "https://localhost:8080/"
        },
        "id": "jslEHdu7RG2M",
        "outputId": "836535cf-3566-42de-9b0f-98145840b7cb"
      },
      "source": [
        "words"
      ],
      "execution_count": null,
      "outputs": [
        {
          "output_type": "execute_result",
          "data": {
            "text/plain": [
              "{\"''\": <gensim.models.keyedvectors.Vocab at 0x7ff113eb2fd0>,\n",
              " \"'ll\": <gensim.models.keyedvectors.Vocab at 0x7ff113eb28d0>,\n",
              " ',': <gensim.models.keyedvectors.Vocab at 0x7ff113eb2e90>,\n",
              " '.': <gensim.models.keyedvectors.Vocab at 0x7ff113eb2f50>,\n",
              " ';': <gensim.models.keyedvectors.Vocab at 0x7ff113f49390>,\n",
              " '?': <gensim.models.keyedvectors.Vocab at 0x7ff113eb2410>,\n",
              " '``': <gensim.models.keyedvectors.Vocab at 0x7ff113eb2f10>,\n",
              " 'act': <gensim.models.keyedvectors.Vocab at 0x7ff113f42290>,\n",
              " 'agreed': <gensim.models.keyedvectors.Vocab at 0x7ff113f42550>,\n",
              " 'amused': <gensim.models.keyedvectors.Vocab at 0x7ff113eb2b90>,\n",
              " 'anywhere': <gensim.models.keyedvectors.Vocab at 0x7ff113eb2ed0>,\n",
              " 'asked': <gensim.models.keyedvectors.Vocab at 0x7ff113eb2510>,\n",
              " 'beside': <gensim.models.keyedvectors.Vocab at 0x7ff113f49ad0>,\n",
              " 'catch': <gensim.models.keyedvectors.Vocab at 0x7ff113f49250>,\n",
              " 'consented': <gensim.models.keyedvectors.Vocab at 0x7ff113f42c10>,\n",
              " 'could': <gensim.models.keyedvectors.Vocab at 0x7ff116b2c350>,\n",
              " 'course': <gensim.models.keyedvectors.Vocab at 0x7ff113f49550>,\n",
              " 'day': <gensim.models.keyedvectors.Vocab at 0x7ff113eb2290>,\n",
              " 'deeply': <gensim.models.keyedvectors.Vocab at 0x7ff113f91490>,\n",
              " 'distance': <gensim.models.keyedvectors.Vocab at 0x7ff113f42690>,\n",
              " 'ever': <gensim.models.keyedvectors.Vocab at 0x7ff113eb2110>,\n",
              " 'far': <gensim.models.keyedvectors.Vocab at 0x7ff113f91710>,\n",
              " 'feel': <gensim.models.keyedvectors.Vocab at 0x7ff113f916d0>,\n",
              " 'fox': <gensim.models.keyedvectors.Vocab at 0x7ff113f42e90>,\n",
              " 'fun': <gensim.models.keyedvectors.Vocab at 0x7ff113eb2d90>,\n",
              " 'get': <gensim.models.keyedvectors.Vocab at 0x7ff113eb2550>,\n",
              " 'goal': <gensim.models.keyedvectors.Vocab at 0x7ff116c2a7d0>,\n",
              " 'going': <gensim.models.keyedvectors.Vocab at 0x7ff113f49a50>,\n",
              " 'hare': <gensim.models.keyedvectors.Vocab at 0x7ff116a99750>,\n",
              " 'idea': <gensim.models.keyedvectors.Vocab at 0x7ff113eb2c50>,\n",
              " 'judge': <gensim.models.keyedvectors.Vocab at 0x7ff113f42110>,\n",
              " 'kept': <gensim.models.keyedvectors.Vocab at 0x7ff113f499d0>,\n",
              " 'last': <gensim.models.keyedvectors.Vocab at 0x7ff113f49e50>,\n",
              " 'laugh': <gensim.models.keyedvectors.Vocab at 0x7ff113eb2610>,\n",
              " 'lay': <gensim.models.keyedvectors.Vocab at 0x7ff113f91390>,\n",
              " 'make': <gensim.models.keyedvectors.Vocab at 0x7ff113f91150>,\n",
              " 'making': <gensim.models.keyedvectors.Vocab at 0x7ff116e87990>,\n",
              " 'marked': <gensim.models.keyedvectors.Vocab at 0x7ff113f42b10>,\n",
              " 'meanwhile': <gensim.models.keyedvectors.Vocab at 0x7ff113f49c10>,\n",
              " 'mocking': <gensim.models.keyedvectors.Vocab at 0x7ff113eb2590>,\n",
              " 'much': <gensim.models.keyedvectors.Vocab at 0x7ff113eb22d0>,\n",
              " 'nap': <gensim.models.keyedvectors.Vocab at 0x7ff113f49d10>,\n",
              " 'near': <gensim.models.keyedvectors.Vocab at 0x7ff116c2a110>,\n",
              " 'one': <gensim.models.keyedvectors.Vocab at 0x7ff113eb2310>,\n",
              " 'overtake': <gensim.models.keyedvectors.Vocab at 0x7ff116b2cb10>,\n",
              " 'passed': <gensim.models.keyedvectors.Vocab at 0x7ff113f49510>,\n",
              " 'peacefully': <gensim.models.keyedvectors.Vocab at 0x7ff113f498d0>,\n",
              " 'place': <gensim.models.keyedvectors.Vocab at 0x7ff113f49f90>,\n",
              " 'prove': <gensim.models.keyedvectors.Vocab at 0x7ff113eb24d0>,\n",
              " 'race': <gensim.models.keyedvectors.Vocab at 0x7ff113eb2a90>,\n",
              " 'ran': <gensim.models.keyedvectors.Vocab at 0x7ff116eb39d0>,\n",
              " 'replied': <gensim.models.keyedvectors.Vocab at 0x7ff113eb2650>,\n",
              " 'ridiculous': <gensim.models.keyedvectors.Vocab at 0x7ff113f91090>,\n",
              " 'run': <gensim.models.keyedvectors.Vocab at 0x7ff113eb23d0>,\n",
              " 'runners': <gensim.models.keyedvectors.Vocab at 0x7ff113f42650>,\n",
              " 'running': <gensim.models.keyedvectors.Vocab at 0x7ff113eb2b10>,\n",
              " 'sight': <gensim.models.keyedvectors.Vocab at 0x7ff113f915d0>,\n",
              " 'sleeping': <gensim.models.keyedvectors.Vocab at 0x7ff113f49450>,\n",
              " 'slept': <gensim.models.keyedvectors.Vocab at 0x7ff113f49290>,\n",
              " 'slow': <gensim.models.keyedvectors.Vocab at 0x7ff113eb21d0>,\n",
              " 'slowly': <gensim.models.keyedvectors.Vocab at 0x7ff113f49e90>,\n",
              " 'soon': <gensim.models.keyedvectors.Vocab at 0x7ff113f91fd0>,\n",
              " 'sooner': <gensim.models.keyedvectors.Vocab at 0x7ff113eb2450>,\n",
              " 'started': <gensim.models.keyedvectors.Vocab at 0x7ff113f42310>,\n",
              " 'steadily': <gensim.models.keyedvectors.Vocab at 0x7ff113f49f10>,\n",
              " 'swiftest': <gensim.models.keyedvectors.Vocab at 0x7ff116eb32d0>,\n",
              " 'take': <gensim.models.keyedvectors.Vocab at 0x7ff113f49710>,\n",
              " 'thing': <gensim.models.keyedvectors.Vocab at 0x7ff113f42510>,\n",
              " 'think': <gensim.models.keyedvectors.Vocab at 0x7ff113eb25d0>,\n",
              " 'time': <gensim.models.keyedvectors.Vocab at 0x7ff113f497d0>,\n",
              " 'tortoise': <gensim.models.keyedvectors.Vocab at 0x7ff113eb2e50>,\n",
              " 'try': <gensim.models.keyedvectors.Vocab at 0x7ff113f91110>,\n",
              " 'wake': <gensim.models.keyedvectors.Vocab at 0x7ff113f49990>,\n",
              " 'yes': <gensim.models.keyedvectors.Vocab at 0x7ff113eb2dd0>}"
            ]
          },
          "metadata": {
            "tags": []
          },
          "execution_count": 45
        }
      ]
    },
    {
      "cell_type": "markdown",
      "metadata": {
        "id": "cdQNCeXTVpQG"
      },
      "source": [
        "Finding Word Vectors"
      ]
    },
    {
      "cell_type": "code",
      "metadata": {
        "id": "_Mc_sMa5SRnv"
      },
      "source": [
        "vector1 = model.wv['peacefully']"
      ],
      "execution_count": null,
      "outputs": []
    },
    {
      "cell_type": "code",
      "metadata": {
        "colab": {
          "base_uri": "https://localhost:8080/"
        },
        "id": "mJjt5We9Sdsx",
        "outputId": "1d3ee64b-a1a8-4a01-c83a-60a91eb17a96"
      },
      "source": [
        "vector1"
      ],
      "execution_count": null,
      "outputs": [
        {
          "output_type": "execute_result",
          "data": {
            "text/plain": [
              "array([ 1.9692711e-03, -3.3964431e-03,  3.8786763e-03,  4.5161941e-03,\n",
              "        3.7960524e-03, -2.6870142e-03,  1.4475079e-03,  3.6418317e-03,\n",
              "        3.0743075e-03,  4.5197108e-03,  4.2458102e-03,  4.7656824e-03,\n",
              "       -4.2309258e-03, -3.4695174e-04, -3.3395132e-03,  1.8456616e-03,\n",
              "       -3.7419752e-03, -3.2290798e-03,  4.0247806e-04, -1.3112996e-03,\n",
              "       -1.9224577e-05, -3.5721119e-03,  1.1868281e-03, -1.1529380e-03,\n",
              "        3.0423219e-03,  3.6137546e-03, -4.0848101e-03,  3.1222368e-03,\n",
              "        2.7058632e-03,  4.2262734e-03,  2.4107660e-03,  1.3180661e-03,\n",
              "        2.8121804e-03, -3.8976904e-03,  1.7445830e-03,  2.5653259e-03,\n",
              "       -3.9258962e-03,  4.6815043e-03,  1.8265710e-03,  2.6792532e-03,\n",
              "       -4.4585392e-03, -3.5908381e-03,  4.8895255e-03,  2.0613754e-03,\n",
              "        4.2637591e-03,  2.5583410e-03, -4.8828125e-03,  2.7347864e-03,\n",
              "       -3.8243376e-03,  3.5485195e-04,  2.5361232e-04,  1.9074254e-03,\n",
              "        2.6623381e-03,  4.3379501e-03, -4.5762705e-03, -9.8462077e-04,\n",
              "       -4.4440595e-04,  4.3925154e-03, -2.5429360e-03, -5.1274768e-04,\n",
              "       -1.1599381e-03,  2.5041839e-03, -4.4139046e-03,  2.4643866e-03,\n",
              "       -4.6383874e-03, -4.2129955e-03,  4.7621722e-03,  4.0532453e-03,\n",
              "        1.1275054e-03,  3.3361078e-03, -4.2886697e-03, -2.7161796e-04,\n",
              "        2.1234481e-03, -3.9878353e-03, -3.9125388e-03,  3.2332558e-03,\n",
              "        1.3011300e-03,  2.2189836e-03,  3.9308025e-03, -1.2838808e-03,\n",
              "       -3.9649950e-03, -2.8185043e-04,  4.6813702e-03,  1.2918508e-03,\n",
              "        1.7456411e-03,  1.5963429e-03,  1.5208166e-03,  4.8121233e-03,\n",
              "       -1.2625625e-03, -1.3774457e-04,  3.8640168e-03,  1.2147018e-03,\n",
              "       -3.6629734e-03, -3.7384597e-03,  4.6164440e-03, -3.3659895e-03,\n",
              "        3.2948530e-03,  1.3360390e-03, -1.1301019e-03, -3.2244909e-03],\n",
              "      dtype=float32)"
            ]
          },
          "metadata": {
            "tags": []
          },
          "execution_count": 53
        }
      ]
    },
    {
      "cell_type": "code",
      "metadata": {
        "id": "x4Ze0wdAV-Cl"
      },
      "source": [
        "# find the most similar words"
      ],
      "execution_count": null,
      "outputs": []
    },
    {
      "cell_type": "code",
      "metadata": {
        "id": "QzzYkKVLWLlX"
      },
      "source": [
        "similar = model.wv.most_similar('peacefully')"
      ],
      "execution_count": null,
      "outputs": []
    },
    {
      "cell_type": "code",
      "metadata": {
        "colab": {
          "base_uri": "https://localhost:8080/"
        },
        "id": "mdX2eo_fWRiA",
        "outputId": "843f9cbe-3488-44b8-f2fc-fc681eebfbaa"
      },
      "source": [
        "similar"
      ],
      "execution_count": null,
      "outputs": [
        {
          "output_type": "execute_result",
          "data": {
            "text/plain": [
              "[('make', 0.30236929655075073),\n",
              " ('asked', 0.19442196190357208),\n",
              " ('deeply', 0.1720810830593109),\n",
              " ('soon', 0.1506393700838089),\n",
              " (\"''\", 0.12996751070022583),\n",
              " ('replied', 0.12358240783214569),\n",
              " ('one', 0.12285333126783371),\n",
              " (',', 0.12046419829130173),\n",
              " ('overtake', 0.11808884143829346),\n",
              " ('run', 0.11496596783399582)]"
            ]
          },
          "metadata": {
            "tags": []
          },
          "execution_count": 57
        }
      ]
    },
    {
      "cell_type": "code",
      "metadata": {
        "id": "PG9_dQ7HWZJO"
      },
      "source": [
        ""
      ],
      "execution_count": null,
      "outputs": []
    }
  ]
}