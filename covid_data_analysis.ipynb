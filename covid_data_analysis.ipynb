{
  "nbformat": 4,
  "nbformat_minor": 0,
  "metadata": {
    "kernelspec": {
      "display_name": "Python 3",
      "language": "python",
      "name": "python3"
    },
    "language_info": {
      "codemirror_mode": {
        "name": "ipython",
        "version": 3
      },
      "file_extension": ".py",
      "mimetype": "text/x-python",
      "name": "python",
      "nbconvert_exporter": "python",
      "pygments_lexer": "ipython3",
      "version": "3.7.6"
    },
    "colab": {
      "name": "ML-MAJOR-JUNE.ipynb",
      "provenance": [],
      "include_colab_link": true
    }
  },
  "cells": [
    {
      "cell_type": "markdown",
      "metadata": {
        "id": "view-in-github",
        "colab_type": "text"
      },
      "source": [
        "<a href=\"https://colab.research.google.com/github/aabhapingle/Big-data/blob/master/covid_data_analysis.ipynb\" target=\"_parent\"><img src=\"https://colab.research.google.com/assets/colab-badge.svg\" alt=\"Open In Colab\"/></a>"
      ]
    },
    {
      "cell_type": "markdown",
      "metadata": {
        "id": "jPi77loDgmFd"
      },
      "source": [
        "# ML-MAJOR-JUNE  "
      ]
    },
    {
      "cell_type": "markdown",
      "metadata": {
        "id": "_P5Mo1RHgmFg"
      },
      "source": [
        "AUTHOR - AABHA PINGLE"
      ]
    },
    {
      "cell_type": "markdown",
      "metadata": {
        "id": "VFL8apS6gmFh"
      },
      "source": [
        "1. Load Dataset"
      ]
    },
    {
      "cell_type": "code",
      "metadata": {
        "id": "J_UnVkgjgmFh"
      },
      "source": [
        "import pandas as pd"
      ],
      "execution_count": null,
      "outputs": []
    },
    {
      "cell_type": "code",
      "metadata": {
        "id": "EthY9mungmFi"
      },
      "source": [
        "df = pd.read_csv(\"owid-covid-data.csv\")"
      ],
      "execution_count": null,
      "outputs": []
    },
    {
      "cell_type": "code",
      "metadata": {
        "id": "wf24OyU6gmFi",
        "outputId": "10823b1f-5a8b-4444-a6b9-1ba5541d1ab2"
      },
      "source": [
        "df.shape"
      ],
      "execution_count": null,
      "outputs": [
        {
          "data": {
            "text/plain": [
              "(37628, 40)"
            ]
          },
          "execution_count": 159,
          "metadata": {},
          "output_type": "execute_result"
        }
      ]
    },
    {
      "cell_type": "code",
      "metadata": {
        "id": "BDul6FVjgmFj",
        "outputId": "7db3f01b-335c-4d08-8960-4081cfb0cfa3"
      },
      "source": [
        "df.head()"
      ],
      "execution_count": null,
      "outputs": [
        {
          "data": {
            "text/html": [
              "<div>\n",
              "<style scoped>\n",
              "    .dataframe tbody tr th:only-of-type {\n",
              "        vertical-align: middle;\n",
              "    }\n",
              "\n",
              "    .dataframe tbody tr th {\n",
              "        vertical-align: top;\n",
              "    }\n",
              "\n",
              "    .dataframe thead th {\n",
              "        text-align: right;\n",
              "    }\n",
              "</style>\n",
              "<table border=\"1\" class=\"dataframe\">\n",
              "  <thead>\n",
              "    <tr style=\"text-align: right;\">\n",
              "      <th></th>\n",
              "      <th>iso_code</th>\n",
              "      <th>continent</th>\n",
              "      <th>location</th>\n",
              "      <th>date</th>\n",
              "      <th>total_cases</th>\n",
              "      <th>new_cases</th>\n",
              "      <th>new_cases_smoothed</th>\n",
              "      <th>total_deaths</th>\n",
              "      <th>new_deaths</th>\n",
              "      <th>new_deaths_smoothed</th>\n",
              "      <th>...</th>\n",
              "      <th>aged_70_older</th>\n",
              "      <th>gdp_per_capita</th>\n",
              "      <th>extreme_poverty</th>\n",
              "      <th>cardiovasc_death_rate</th>\n",
              "      <th>diabetes_prevalence</th>\n",
              "      <th>female_smokers</th>\n",
              "      <th>male_smokers</th>\n",
              "      <th>handwashing_facilities</th>\n",
              "      <th>hospital_beds_per_thousand</th>\n",
              "      <th>life_expectancy</th>\n",
              "    </tr>\n",
              "  </thead>\n",
              "  <tbody>\n",
              "    <tr>\n",
              "      <th>0</th>\n",
              "      <td>ABW</td>\n",
              "      <td>North America</td>\n",
              "      <td>Aruba</td>\n",
              "      <td>2020-03-13</td>\n",
              "      <td>2.0</td>\n",
              "      <td>2.0</td>\n",
              "      <td>NaN</td>\n",
              "      <td>0.0</td>\n",
              "      <td>0.0</td>\n",
              "      <td>NaN</td>\n",
              "      <td>...</td>\n",
              "      <td>7.452</td>\n",
              "      <td>35973.781</td>\n",
              "      <td>NaN</td>\n",
              "      <td>NaN</td>\n",
              "      <td>11.62</td>\n",
              "      <td>NaN</td>\n",
              "      <td>NaN</td>\n",
              "      <td>NaN</td>\n",
              "      <td>NaN</td>\n",
              "      <td>76.29</td>\n",
              "    </tr>\n",
              "    <tr>\n",
              "      <th>1</th>\n",
              "      <td>ABW</td>\n",
              "      <td>North America</td>\n",
              "      <td>Aruba</td>\n",
              "      <td>2020-03-19</td>\n",
              "      <td>NaN</td>\n",
              "      <td>NaN</td>\n",
              "      <td>0.286</td>\n",
              "      <td>NaN</td>\n",
              "      <td>NaN</td>\n",
              "      <td>0.0</td>\n",
              "      <td>...</td>\n",
              "      <td>7.452</td>\n",
              "      <td>35973.781</td>\n",
              "      <td>NaN</td>\n",
              "      <td>NaN</td>\n",
              "      <td>11.62</td>\n",
              "      <td>NaN</td>\n",
              "      <td>NaN</td>\n",
              "      <td>NaN</td>\n",
              "      <td>NaN</td>\n",
              "      <td>76.29</td>\n",
              "    </tr>\n",
              "    <tr>\n",
              "      <th>2</th>\n",
              "      <td>ABW</td>\n",
              "      <td>North America</td>\n",
              "      <td>Aruba</td>\n",
              "      <td>2020-03-20</td>\n",
              "      <td>4.0</td>\n",
              "      <td>2.0</td>\n",
              "      <td>0.286</td>\n",
              "      <td>0.0</td>\n",
              "      <td>0.0</td>\n",
              "      <td>0.0</td>\n",
              "      <td>...</td>\n",
              "      <td>7.452</td>\n",
              "      <td>35973.781</td>\n",
              "      <td>NaN</td>\n",
              "      <td>NaN</td>\n",
              "      <td>11.62</td>\n",
              "      <td>NaN</td>\n",
              "      <td>NaN</td>\n",
              "      <td>NaN</td>\n",
              "      <td>NaN</td>\n",
              "      <td>76.29</td>\n",
              "    </tr>\n",
              "    <tr>\n",
              "      <th>3</th>\n",
              "      <td>ABW</td>\n",
              "      <td>North America</td>\n",
              "      <td>Aruba</td>\n",
              "      <td>2020-03-21</td>\n",
              "      <td>NaN</td>\n",
              "      <td>NaN</td>\n",
              "      <td>0.286</td>\n",
              "      <td>NaN</td>\n",
              "      <td>NaN</td>\n",
              "      <td>0.0</td>\n",
              "      <td>...</td>\n",
              "      <td>7.452</td>\n",
              "      <td>35973.781</td>\n",
              "      <td>NaN</td>\n",
              "      <td>NaN</td>\n",
              "      <td>11.62</td>\n",
              "      <td>NaN</td>\n",
              "      <td>NaN</td>\n",
              "      <td>NaN</td>\n",
              "      <td>NaN</td>\n",
              "      <td>76.29</td>\n",
              "    </tr>\n",
              "    <tr>\n",
              "      <th>4</th>\n",
              "      <td>ABW</td>\n",
              "      <td>North America</td>\n",
              "      <td>Aruba</td>\n",
              "      <td>2020-03-22</td>\n",
              "      <td>NaN</td>\n",
              "      <td>NaN</td>\n",
              "      <td>0.286</td>\n",
              "      <td>NaN</td>\n",
              "      <td>NaN</td>\n",
              "      <td>0.0</td>\n",
              "      <td>...</td>\n",
              "      <td>7.452</td>\n",
              "      <td>35973.781</td>\n",
              "      <td>NaN</td>\n",
              "      <td>NaN</td>\n",
              "      <td>11.62</td>\n",
              "      <td>NaN</td>\n",
              "      <td>NaN</td>\n",
              "      <td>NaN</td>\n",
              "      <td>NaN</td>\n",
              "      <td>76.29</td>\n",
              "    </tr>\n",
              "  </tbody>\n",
              "</table>\n",
              "<p>5 rows × 40 columns</p>\n",
              "</div>"
            ],
            "text/plain": [
              "  iso_code      continent location        date  total_cases  new_cases  \\\n",
              "0      ABW  North America    Aruba  2020-03-13          2.0        2.0   \n",
              "1      ABW  North America    Aruba  2020-03-19          NaN        NaN   \n",
              "2      ABW  North America    Aruba  2020-03-20          4.0        2.0   \n",
              "3      ABW  North America    Aruba  2020-03-21          NaN        NaN   \n",
              "4      ABW  North America    Aruba  2020-03-22          NaN        NaN   \n",
              "\n",
              "   new_cases_smoothed  total_deaths  new_deaths  new_deaths_smoothed  ...  \\\n",
              "0                 NaN           0.0         0.0                  NaN  ...   \n",
              "1               0.286           NaN         NaN                  0.0  ...   \n",
              "2               0.286           0.0         0.0                  0.0  ...   \n",
              "3               0.286           NaN         NaN                  0.0  ...   \n",
              "4               0.286           NaN         NaN                  0.0  ...   \n",
              "\n",
              "   aged_70_older  gdp_per_capita  extreme_poverty  cardiovasc_death_rate  \\\n",
              "0          7.452       35973.781              NaN                    NaN   \n",
              "1          7.452       35973.781              NaN                    NaN   \n",
              "2          7.452       35973.781              NaN                    NaN   \n",
              "3          7.452       35973.781              NaN                    NaN   \n",
              "4          7.452       35973.781              NaN                    NaN   \n",
              "\n",
              "   diabetes_prevalence  female_smokers  male_smokers  handwashing_facilities  \\\n",
              "0                11.62             NaN           NaN                     NaN   \n",
              "1                11.62             NaN           NaN                     NaN   \n",
              "2                11.62             NaN           NaN                     NaN   \n",
              "3                11.62             NaN           NaN                     NaN   \n",
              "4                11.62             NaN           NaN                     NaN   \n",
              "\n",
              "   hospital_beds_per_thousand  life_expectancy  \n",
              "0                         NaN            76.29  \n",
              "1                         NaN            76.29  \n",
              "2                         NaN            76.29  \n",
              "3                         NaN            76.29  \n",
              "4                         NaN            76.29  \n",
              "\n",
              "[5 rows x 40 columns]"
            ]
          },
          "execution_count": 160,
          "metadata": {},
          "output_type": "execute_result"
        }
      ]
    },
    {
      "cell_type": "markdown",
      "metadata": {
        "id": "kWBZ2mWegmFk"
      },
      "source": [
        "2. Subset only those rows that have 'India' in the location column"
      ]
    },
    {
      "cell_type": "code",
      "metadata": {
        "id": "MEo4SVD_gmFl",
        "outputId": "2af08f02-3cb2-4ddd-fea2-21bc0e7c3c28"
      },
      "source": [
        "# Check the location column for India\n",
        "\n",
        "df[\"location\"]"
      ],
      "execution_count": null,
      "outputs": [
        {
          "data": {
            "text/plain": [
              "0                Aruba\n",
              "1                Aruba\n",
              "2                Aruba\n",
              "3                Aruba\n",
              "4                Aruba\n",
              "             ...      \n",
              "37623    International\n",
              "37624    International\n",
              "37625    International\n",
              "37626    International\n",
              "37627    International\n",
              "Name: location, Length: 37628, dtype: object"
            ]
          },
          "execution_count": 161,
          "metadata": {},
          "output_type": "execute_result"
        }
      ]
    },
    {
      "cell_type": "code",
      "metadata": {
        "id": "W4Wnbkt3gmFm",
        "outputId": "b1d16929-11f9-4aa3-99d4-b88516a396ad"
      },
      "source": [
        "type(df[\"location\"])"
      ],
      "execution_count": null,
      "outputs": [
        {
          "data": {
            "text/plain": [
              "pandas.core.series.Series"
            ]
          },
          "execution_count": 162,
          "metadata": {},
          "output_type": "execute_result"
        }
      ]
    },
    {
      "cell_type": "code",
      "metadata": {
        "id": "_bNLsBe9gmFm",
        "outputId": "8f40f143-bad9-4acf-8126-af57918e608d"
      },
      "source": [
        "# we get a boolean series\n",
        "\n",
        "df[\"location\"]==\"India\""
      ],
      "execution_count": null,
      "outputs": [
        {
          "data": {
            "text/plain": [
              "0        False\n",
              "1        False\n",
              "2        False\n",
              "3        False\n",
              "4        False\n",
              "         ...  \n",
              "37623    False\n",
              "37624    False\n",
              "37625    False\n",
              "37626    False\n",
              "37627    False\n",
              "Name: location, Length: 37628, dtype: bool"
            ]
          },
          "execution_count": 163,
          "metadata": {},
          "output_type": "execute_result"
        }
      ]
    },
    {
      "cell_type": "code",
      "metadata": {
        "id": "En-oJygBgmFn"
      },
      "source": [
        "# subset only those rows that have \"India\" in the \"location\" column\n",
        "\n",
        "df = df[df[\"location\"]==\"India\"]"
      ],
      "execution_count": null,
      "outputs": []
    },
    {
      "cell_type": "code",
      "metadata": {
        "id": "9YxW-sCHgmFo",
        "outputId": "c48415a9-dc67-437c-9043-3d52f0e4af9d"
      },
      "source": [
        "df.head()"
      ],
      "execution_count": null,
      "outputs": [
        {
          "data": {
            "text/html": [
              "<div>\n",
              "<style scoped>\n",
              "    .dataframe tbody tr th:only-of-type {\n",
              "        vertical-align: middle;\n",
              "    }\n",
              "\n",
              "    .dataframe tbody tr th {\n",
              "        vertical-align: top;\n",
              "    }\n",
              "\n",
              "    .dataframe thead th {\n",
              "        text-align: right;\n",
              "    }\n",
              "</style>\n",
              "<table border=\"1\" class=\"dataframe\">\n",
              "  <thead>\n",
              "    <tr style=\"text-align: right;\">\n",
              "      <th></th>\n",
              "      <th>iso_code</th>\n",
              "      <th>continent</th>\n",
              "      <th>location</th>\n",
              "      <th>date</th>\n",
              "      <th>total_cases</th>\n",
              "      <th>new_cases</th>\n",
              "      <th>new_cases_smoothed</th>\n",
              "      <th>total_deaths</th>\n",
              "      <th>new_deaths</th>\n",
              "      <th>new_deaths_smoothed</th>\n",
              "      <th>...</th>\n",
              "      <th>aged_70_older</th>\n",
              "      <th>gdp_per_capita</th>\n",
              "      <th>extreme_poverty</th>\n",
              "      <th>cardiovasc_death_rate</th>\n",
              "      <th>diabetes_prevalence</th>\n",
              "      <th>female_smokers</th>\n",
              "      <th>male_smokers</th>\n",
              "      <th>handwashing_facilities</th>\n",
              "      <th>hospital_beds_per_thousand</th>\n",
              "      <th>life_expectancy</th>\n",
              "    </tr>\n",
              "  </thead>\n",
              "  <tbody>\n",
              "    <tr>\n",
              "      <th>16118</th>\n",
              "      <td>IND</td>\n",
              "      <td>Asia</td>\n",
              "      <td>India</td>\n",
              "      <td>2019-12-31</td>\n",
              "      <td>0.0</td>\n",
              "      <td>0.0</td>\n",
              "      <td>NaN</td>\n",
              "      <td>0.0</td>\n",
              "      <td>0.0</td>\n",
              "      <td>NaN</td>\n",
              "      <td>...</td>\n",
              "      <td>3.414</td>\n",
              "      <td>6426.674</td>\n",
              "      <td>21.2</td>\n",
              "      <td>282.28</td>\n",
              "      <td>10.39</td>\n",
              "      <td>1.9</td>\n",
              "      <td>20.6</td>\n",
              "      <td>59.55</td>\n",
              "      <td>0.53</td>\n",
              "      <td>69.66</td>\n",
              "    </tr>\n",
              "    <tr>\n",
              "      <th>16119</th>\n",
              "      <td>IND</td>\n",
              "      <td>Asia</td>\n",
              "      <td>India</td>\n",
              "      <td>2020-01-01</td>\n",
              "      <td>0.0</td>\n",
              "      <td>0.0</td>\n",
              "      <td>NaN</td>\n",
              "      <td>0.0</td>\n",
              "      <td>0.0</td>\n",
              "      <td>NaN</td>\n",
              "      <td>...</td>\n",
              "      <td>3.414</td>\n",
              "      <td>6426.674</td>\n",
              "      <td>21.2</td>\n",
              "      <td>282.28</td>\n",
              "      <td>10.39</td>\n",
              "      <td>1.9</td>\n",
              "      <td>20.6</td>\n",
              "      <td>59.55</td>\n",
              "      <td>0.53</td>\n",
              "      <td>69.66</td>\n",
              "    </tr>\n",
              "    <tr>\n",
              "      <th>16120</th>\n",
              "      <td>IND</td>\n",
              "      <td>Asia</td>\n",
              "      <td>India</td>\n",
              "      <td>2020-01-02</td>\n",
              "      <td>0.0</td>\n",
              "      <td>0.0</td>\n",
              "      <td>NaN</td>\n",
              "      <td>0.0</td>\n",
              "      <td>0.0</td>\n",
              "      <td>NaN</td>\n",
              "      <td>...</td>\n",
              "      <td>3.414</td>\n",
              "      <td>6426.674</td>\n",
              "      <td>21.2</td>\n",
              "      <td>282.28</td>\n",
              "      <td>10.39</td>\n",
              "      <td>1.9</td>\n",
              "      <td>20.6</td>\n",
              "      <td>59.55</td>\n",
              "      <td>0.53</td>\n",
              "      <td>69.66</td>\n",
              "    </tr>\n",
              "    <tr>\n",
              "      <th>16121</th>\n",
              "      <td>IND</td>\n",
              "      <td>Asia</td>\n",
              "      <td>India</td>\n",
              "      <td>2020-01-03</td>\n",
              "      <td>0.0</td>\n",
              "      <td>0.0</td>\n",
              "      <td>NaN</td>\n",
              "      <td>0.0</td>\n",
              "      <td>0.0</td>\n",
              "      <td>NaN</td>\n",
              "      <td>...</td>\n",
              "      <td>3.414</td>\n",
              "      <td>6426.674</td>\n",
              "      <td>21.2</td>\n",
              "      <td>282.28</td>\n",
              "      <td>10.39</td>\n",
              "      <td>1.9</td>\n",
              "      <td>20.6</td>\n",
              "      <td>59.55</td>\n",
              "      <td>0.53</td>\n",
              "      <td>69.66</td>\n",
              "    </tr>\n",
              "    <tr>\n",
              "      <th>16122</th>\n",
              "      <td>IND</td>\n",
              "      <td>Asia</td>\n",
              "      <td>India</td>\n",
              "      <td>2020-01-04</td>\n",
              "      <td>0.0</td>\n",
              "      <td>0.0</td>\n",
              "      <td>NaN</td>\n",
              "      <td>0.0</td>\n",
              "      <td>0.0</td>\n",
              "      <td>NaN</td>\n",
              "      <td>...</td>\n",
              "      <td>3.414</td>\n",
              "      <td>6426.674</td>\n",
              "      <td>21.2</td>\n",
              "      <td>282.28</td>\n",
              "      <td>10.39</td>\n",
              "      <td>1.9</td>\n",
              "      <td>20.6</td>\n",
              "      <td>59.55</td>\n",
              "      <td>0.53</td>\n",
              "      <td>69.66</td>\n",
              "    </tr>\n",
              "  </tbody>\n",
              "</table>\n",
              "<p>5 rows × 40 columns</p>\n",
              "</div>"
            ],
            "text/plain": [
              "      iso_code continent location        date  total_cases  new_cases  \\\n",
              "16118      IND      Asia    India  2019-12-31          0.0        0.0   \n",
              "16119      IND      Asia    India  2020-01-01          0.0        0.0   \n",
              "16120      IND      Asia    India  2020-01-02          0.0        0.0   \n",
              "16121      IND      Asia    India  2020-01-03          0.0        0.0   \n",
              "16122      IND      Asia    India  2020-01-04          0.0        0.0   \n",
              "\n",
              "       new_cases_smoothed  total_deaths  new_deaths  new_deaths_smoothed  ...  \\\n",
              "16118                 NaN           0.0         0.0                  NaN  ...   \n",
              "16119                 NaN           0.0         0.0                  NaN  ...   \n",
              "16120                 NaN           0.0         0.0                  NaN  ...   \n",
              "16121                 NaN           0.0         0.0                  NaN  ...   \n",
              "16122                 NaN           0.0         0.0                  NaN  ...   \n",
              "\n",
              "       aged_70_older  gdp_per_capita  extreme_poverty  cardiovasc_death_rate  \\\n",
              "16118          3.414        6426.674             21.2                 282.28   \n",
              "16119          3.414        6426.674             21.2                 282.28   \n",
              "16120          3.414        6426.674             21.2                 282.28   \n",
              "16121          3.414        6426.674             21.2                 282.28   \n",
              "16122          3.414        6426.674             21.2                 282.28   \n",
              "\n",
              "       diabetes_prevalence  female_smokers  male_smokers  \\\n",
              "16118                10.39             1.9          20.6   \n",
              "16119                10.39             1.9          20.6   \n",
              "16120                10.39             1.9          20.6   \n",
              "16121                10.39             1.9          20.6   \n",
              "16122                10.39             1.9          20.6   \n",
              "\n",
              "       handwashing_facilities  hospital_beds_per_thousand  life_expectancy  \n",
              "16118                   59.55                        0.53            69.66  \n",
              "16119                   59.55                        0.53            69.66  \n",
              "16120                   59.55                        0.53            69.66  \n",
              "16121                   59.55                        0.53            69.66  \n",
              "16122                   59.55                        0.53            69.66  \n",
              "\n",
              "[5 rows x 40 columns]"
            ]
          },
          "execution_count": 165,
          "metadata": {},
          "output_type": "execute_result"
        }
      ]
    },
    {
      "cell_type": "code",
      "metadata": {
        "id": "CCAmkxlegmFo",
        "outputId": "f7900556-bff2-48f2-84bc-ba67a449abef"
      },
      "source": [
        "df.shape\n",
        "\n",
        "# there are 231 rows and 40 columns"
      ],
      "execution_count": null,
      "outputs": [
        {
          "data": {
            "text/plain": [
              "(231, 40)"
            ]
          },
          "execution_count": 166,
          "metadata": {},
          "output_type": "execute_result"
        }
      ]
    },
    {
      "cell_type": "code",
      "metadata": {
        "id": "vTChKFsJgmFp",
        "outputId": "54ee4143-0f36-4fc5-e56d-3fb55d4bd8e3"
      },
      "source": [
        "df.info()"
      ],
      "execution_count": null,
      "outputs": [
        {
          "name": "stdout",
          "output_type": "stream",
          "text": [
            "<class 'pandas.core.frame.DataFrame'>\n",
            "Int64Index: 231 entries, 16118 to 16348\n",
            "Data columns (total 40 columns):\n",
            " #   Column                           Non-Null Count  Dtype  \n",
            "---  ------                           --------------  -----  \n",
            " 0   iso_code                         231 non-null    object \n",
            " 1   continent                        231 non-null    object \n",
            " 2   location                         231 non-null    object \n",
            " 3   date                             231 non-null    object \n",
            " 4   total_cases                      230 non-null    float64\n",
            " 5   new_cases                        230 non-null    float64\n",
            " 6   new_cases_smoothed               225 non-null    float64\n",
            " 7   total_deaths                     230 non-null    float64\n",
            " 8   new_deaths                       230 non-null    float64\n",
            " 9   new_deaths_smoothed              225 non-null    float64\n",
            " 10  total_cases_per_million          230 non-null    float64\n",
            " 11  new_cases_per_million            230 non-null    float64\n",
            " 12  new_cases_smoothed_per_million   225 non-null    float64\n",
            " 13  total_deaths_per_million         230 non-null    float64\n",
            " 14  new_deaths_per_million           230 non-null    float64\n",
            " 15  new_deaths_smoothed_per_million  225 non-null    float64\n",
            " 16  new_tests                        140 non-null    float64\n",
            " 17  total_tests                      146 non-null    float64\n",
            " 18  total_tests_per_thousand         146 non-null    float64\n",
            " 19  new_tests_per_thousand           140 non-null    float64\n",
            " 20  new_tests_smoothed               151 non-null    float64\n",
            " 21  new_tests_smoothed_per_thousand  151 non-null    float64\n",
            " 22  tests_per_case                   151 non-null    float64\n",
            " 23  positive_rate                    151 non-null    float64\n",
            " 24  tests_units                      158 non-null    object \n",
            " 25  stringency_index                 220 non-null    float64\n",
            " 26  population                       231 non-null    float64\n",
            " 27  population_density               231 non-null    float64\n",
            " 28  median_age                       231 non-null    float64\n",
            " 29  aged_65_older                    231 non-null    float64\n",
            " 30  aged_70_older                    231 non-null    float64\n",
            " 31  gdp_per_capita                   231 non-null    float64\n",
            " 32  extreme_poverty                  231 non-null    float64\n",
            " 33  cardiovasc_death_rate            231 non-null    float64\n",
            " 34  diabetes_prevalence              231 non-null    float64\n",
            " 35  female_smokers                   231 non-null    float64\n",
            " 36  male_smokers                     231 non-null    float64\n",
            " 37  handwashing_facilities           231 non-null    float64\n",
            " 38  hospital_beds_per_thousand       231 non-null    float64\n",
            " 39  life_expectancy                  231 non-null    float64\n",
            "dtypes: float64(35), object(5)\n",
            "memory usage: 74.0+ KB\n"
          ]
        }
      ]
    },
    {
      "cell_type": "code",
      "metadata": {
        "id": "Fn4gcjzRgmFp",
        "outputId": "8cf20d67-47b7-4eaa-8cd8-1161e34c7733"
      },
      "source": [
        "    df['tests_units']"
      ],
      "execution_count": null,
      "outputs": [
        {
          "data": {
            "text/plain": [
              "16118               NaN\n",
              "16119               NaN\n",
              "16120               NaN\n",
              "16121               NaN\n",
              "16122               NaN\n",
              "              ...      \n",
              "16344    samples tested\n",
              "16345    samples tested\n",
              "16346    samples tested\n",
              "16347    samples tested\n",
              "16348               NaN\n",
              "Name: tests_units, Length: 231, dtype: object"
            ]
          },
          "execution_count": 168,
          "metadata": {},
          "output_type": "execute_result"
        }
      ]
    },
    {
      "cell_type": "markdown",
      "metadata": {
        "id": "l25Pdx-8gmFp"
      },
      "source": [
        "3. Handling missing values"
      ]
    },
    {
      "cell_type": "markdown",
      "metadata": {
        "id": "RFrTt2bZgmFp"
      },
      "source": [
        "a. If there are null values in continuous numerical column, replace the null values by the mean of that column"
      ]
    },
    {
      "cell_type": "code",
      "metadata": {
        "id": "IX6me1adgmFq",
        "outputId": "32c23e0e-8642-4985-e120-a77063232a8d"
      },
      "source": [
        "# for calculating the percentage of rows that are null \n",
        "\n",
        "indexes = []  # finding indexes of columns that have more than 50% null values\n",
        "\n",
        "for _ in range(0, 40):\n",
        "    if (((df.iloc[:,_]).isna().sum())/231)*100 > 50 :\n",
        "        indexes.append(_)\n",
        "        \n",
        "indexes"
      ],
      "execution_count": null,
      "outputs": [
        {
          "data": {
            "text/plain": [
              "[]"
            ]
          },
          "execution_count": 169,
          "metadata": {},
          "output_type": "execute_result"
        }
      ]
    },
    {
      "cell_type": "markdown",
      "metadata": {
        "id": "Oe6qltkggmFq"
      },
      "source": [
        "Since there are no such columns, no need to drop any column."
      ]
    },
    {
      "cell_type": "code",
      "metadata": {
        "id": "JK6d9UurgmFq",
        "outputId": "d21aa7c8-76fe-444e-bfc0-7daadbc285f9"
      },
      "source": [
        "# finding the indexes of columns which need treatment\n",
        "\n",
        "need_treatment = []\n",
        "\n",
        "for _ in range(0, 40):\n",
        "    if (df.iloc[:, _].isna()).sum() != 0 :\n",
        "        need_treatment.append(_)\n",
        "        \n",
        "print(need_treatment)\n",
        "        "
      ],
      "execution_count": null,
      "outputs": [
        {
          "name": "stdout",
          "output_type": "stream",
          "text": [
            "[4, 5, 6, 7, 8, 9, 10, 11, 12, 13, 14, 15, 16, 17, 18, 19, 20, 21, 22, 23, 24, 25]\n"
          ]
        }
      ]
    },
    {
      "cell_type": "code",
      "metadata": {
        "id": "u_IVWCmxgmFq",
        "outputId": "67eba6b9-8dda-4bfa-fd7e-d71fafecde3c"
      },
      "source": [
        "# seperating numerical and categorical columns\n",
        "\n",
        "# two datatypes: object and float64\n",
        "\n",
        "categorical = []\n",
        "numerical = []\n",
        "\n",
        "for _ in need_treatment:\n",
        "    if (df.iloc[:, _]).dtype == 'object':\n",
        "        categorical.append(_)\n",
        "    elif (df.iloc[:, _]).dtype == 'float64' :\n",
        "        numerical.append(_)\n",
        "        \n",
        "print('Categorical columns:')\n",
        "print(categorical)        \n",
        "print('Numerical columns:')\n",
        "print(numerical)\n",
        "        \n",
        "\n",
        "\n",
        "# print((df.iloc[:, 1]).dtype)\n",
        "# print((df.iloc[:, 4]).dtype)\n"
      ],
      "execution_count": null,
      "outputs": [
        {
          "name": "stdout",
          "output_type": "stream",
          "text": [
            "Categorical columns:\n",
            "[24]\n",
            "Numerical columns:\n",
            "[4, 5, 6, 7, 8, 9, 10, 11, 12, 13, 14, 15, 16, 17, 18, 19, 20, 21, 22, 23, 25]\n"
          ]
        }
      ]
    },
    {
      "cell_type": "code",
      "metadata": {
        "id": "wyX9uWKXgmFr"
      },
      "source": [
        "# replace null values for categorical column\n",
        "\n",
        "df.iloc[:, 24].fillna(df.iloc[:, 24].mode()[0], inplace = True )\n",
        "\n",
        "# (df.iloc[:, 24].isna())\n",
        "\n",
        "# to fill the first value in the array "
      ],
      "execution_count": null,
      "outputs": []
    },
    {
      "cell_type": "code",
      "metadata": {
        "id": "zYgBeesggmFs",
        "outputId": "f157ace8-6e36-475d-aa53-a54a767d6d97"
      },
      "source": [
        "df.iloc[:, 24]"
      ],
      "execution_count": null,
      "outputs": [
        {
          "data": {
            "text/plain": [
              "16118    samples tested\n",
              "16119    samples tested\n",
              "16120    samples tested\n",
              "16121    samples tested\n",
              "16122    samples tested\n",
              "              ...      \n",
              "16344    samples tested\n",
              "16345    samples tested\n",
              "16346    samples tested\n",
              "16347    samples tested\n",
              "16348    samples tested\n",
              "Name: tests_units, Length: 231, dtype: object"
            ]
          },
          "execution_count": 173,
          "metadata": {},
          "output_type": "execute_result"
        }
      ]
    },
    {
      "cell_type": "code",
      "metadata": {
        "id": "oXxXNiR5gmFs",
        "outputId": "8a77b9f7-b43d-4992-db2e-0ec0cf362b7f"
      },
      "source": [
        "# replace null values for numerical columns\n",
        "\n",
        "numerical"
      ],
      "execution_count": null,
      "outputs": [
        {
          "data": {
            "text/plain": [
              "[4, 5, 6, 7, 8, 9, 10, 11, 12, 13, 14, 15, 16, 17, 18, 19, 20, 21, 22, 23, 25]"
            ]
          },
          "execution_count": 174,
          "metadata": {},
          "output_type": "execute_result"
        }
      ]
    },
    {
      "cell_type": "code",
      "metadata": {
        "id": "CFh_K6ZvgmFs"
      },
      "source": [
        "# all null values are replaced\n",
        "\n",
        "for _ in numerical:\n",
        "    df.iloc[:, _].fillna(df.iloc[:, _].mean(), inplace = True)   "
      ],
      "execution_count": null,
      "outputs": []
    },
    {
      "cell_type": "code",
      "metadata": {
        "id": "1IiYSz1xgmFt"
      },
      "source": [
        "# for checking purposes \n",
        "\n",
        "# df.iloc[:, 25].isna().sum()"
      ],
      "execution_count": null,
      "outputs": []
    },
    {
      "cell_type": "markdown",
      "metadata": {
        "id": "eawDx5GhgmFt"
      },
      "source": [
        "4. Univariate Analysis"
      ]
    },
    {
      "cell_type": "markdown",
      "metadata": {
        "id": "n_g-GraGgmFt"
      },
      "source": [
        "a. Draw histograms of 10 feature columns"
      ]
    },
    {
      "cell_type": "code",
      "metadata": {
        "id": "xp2hWecfgmFt"
      },
      "source": [
        "import matplotlib.pyplot as plt"
      ],
      "execution_count": null,
      "outputs": []
    },
    {
      "cell_type": "code",
      "metadata": {
        "id": "XuIBMlh7gmFt",
        "outputId": "e156f7f3-dc7c-4b97-a99d-970665ed5111"
      },
      "source": [
        "_ = plt.hist(df['tests_per_case'])\n",
        "_ = plt.title('Tests per Case')\n",
        "_ = plt.xlabel('Tests per Case Data')\n",
        "_ = plt.ylabel('No. of Days')"
      ],
      "execution_count": null,
      "outputs": [
        {
          "data": {
            "image/png": "[encoded data removed]",
            "text/plain": [
              "<Figure size 432x288 with 1 Axes>"
            ]
          },
          "metadata": {
            "needs_background": "light"
          },
          "output_type": "display_data"
        }
      ]
    },
    {
      "cell_type": "code",
      "metadata": {
        "id": "twI-KuXHgmFu",
        "outputId": "6bf6c389-ca5d-4150-dde9-e13e45367371"
      },
      "source": [
        "_ = plt.hist(df['positive_rate'])\n",
        "_ = plt.title('Positive Rate')\n",
        "_ = plt.xlabel('Positive Rate Data')\n",
        "_ = plt.ylabel('No. of Days')"
      ],
      "execution_count": null,
      "outputs": [
        {
          "data": {
            "image/png": "[encoded data removed]",
            "text/plain": [
              "<Figure size 432x288 with 1 Axes>"
            ]
          },
          "metadata": {
            "needs_background": "light"
          },
          "output_type": "display_data"
        }
      ]
    },
    {
      "cell_type": "code",
      "metadata": {
        "id": "Aqn0CdYegmFu",
        "outputId": "b3cc6928-4e36-4e8b-8b83-7080bb48bbb7"
      },
      "source": [
        "_ = plt.hist(df['stringency_index'])\n",
        "_ = plt.title('Stringency Index')\n",
        "_ = plt.xlabel('Stringency Index Data')\n",
        "# _ = plt.ylabel('No. of Days')"
      ],
      "execution_count": null,
      "outputs": [
        {
          "data": {
            "image/png": "[encoded data removed]",
            "text/plain": [
              "<Figure size 432x288 with 1 Axes>"
            ]
          },
          "metadata": {
            "needs_background": "light"
          },
          "output_type": "display_data"
        }
      ]
    },
    {
      "cell_type": "code",
      "metadata": {
        "id": "B_X6k8T_gmFv",
        "outputId": "16f45e7f-31ce-4c81-8e90-b57199c8ed73"
      },
      "source": [
        "_ = plt.hist(df['diabetes_prevalence'])\n",
        "_ = plt.title('Diabetes Prevalence')\n",
        "_ = plt.xlabel('Diabetes Prevalence Data')\n"
      ],
      "execution_count": null,
      "outputs": [
        {
          "data": {
            "image/png": "[encoded data removed]",
            "text/plain": [
              "<Figure size 432x288 with 1 Axes>"
            ]
          },
          "metadata": {
            "needs_background": "light"
          },
          "output_type": "display_data"
        }
      ]
    },
    {
      "cell_type": "code",
      "metadata": {
        "id": "OleH9fPPgmFv",
        "outputId": "d2daf28a-f64c-474e-99ab-91e8fa888512"
      },
      "source": [
        "_ = plt.hist(df['female_smokers'])\n",
        "_ = plt.title('Female smokers')\n",
        "_ = plt.xlabel('Female smokers Data')\n"
      ],
      "execution_count": null,
      "outputs": [
        {
          "data": {
            "image/png": "[encoded data removed]",
            "text/plain": [
              "<Figure size 432x288 with 1 Axes>"
            ]
          },
          "metadata": {
            "needs_background": "light"
          },
          "output_type": "display_data"
        }
      ]
    },
    {
      "cell_type": "code",
      "metadata": {
        "id": "q5Rs8n2ngmFv",
        "outputId": "c6232289-8c88-449e-9ef9-5354b146214c"
      },
      "source": [
        "_ = plt.hist(df['total_tests'])\n",
        "_ = plt.title('Total number of Tests')\n",
        "_ = plt.xlabel('Total number of Tests Data')\n"
      ],
      "execution_count": null,
      "outputs": [
        {
          "data": {
            "image/png": "[encoded data removed]",
            "text/plain": [
              "<Figure size 432x288 with 1 Axes>"
            ]
          },
          "metadata": {
            "needs_background": "light"
          },
          "output_type": "display_data"
        }
      ]
    },
    {
      "cell_type": "code",
      "metadata": {
        "id": "15pvYsW8gmFw",
        "outputId": "c5dc90b1-2b71-4982-cd05-1c00856571b7"
      },
      "source": [
        "_ = plt.hist(df['handwashing_facilities'])\n",
        "_ = plt.title('Hand Washing Facilities')\n",
        "_ = plt.xlabel('Hand Washing Facilities Data')"
      ],
      "execution_count": null,
      "outputs": [
        {
          "data": {
            "image/png": "[encoded data removed]",
            "text/plain": [
              "<Figure size 432x288 with 1 Axes>"
            ]
          },
          "metadata": {
            "needs_background": "light"
          },
          "output_type": "display_data"
        }
      ]
    },
    {
      "cell_type": "code",
      "metadata": {
        "id": "mnQmkUxUgmFw",
        "outputId": "cb28626e-fa33-4292-fb78-9aaa9f804725"
      },
      "source": [
        "_ = plt.hist(df['cardiovasc_death_rate'])\n",
        "_ = plt.title('CardioVascular Death Rate')\n",
        "_ = plt.xlabel('CardioVascular Death Rate Data')"
      ],
      "execution_count": null,
      "outputs": [
        {
          "data": {
            "image/png": "[encoded data removed]",
            "text/plain": [
              "<Figure size 432x288 with 1 Axes>"
            ]
          },
          "metadata": {
            "needs_background": "light"
          },
          "output_type": "display_data"
        }
      ]
    },
    {
      "cell_type": "code",
      "metadata": {
        "id": "A4OxNuiCgmFw",
        "outputId": "128bb132-24bb-41ae-d07c-663c456f04a5"
      },
      "source": [
        "_ = plt.hist(df['aged_70_older'])\n",
        "_ = plt.title('Age 70 older')\n"
      ],
      "execution_count": null,
      "outputs": [
        {
          "data": {
            "image/png": "[encoded data removed]",
            "text/plain": [
              "<Figure size 432x288 with 1 Axes>"
            ]
          },
          "metadata": {
            "needs_background": "light"
          },
          "output_type": "display_data"
        }
      ]
    },
    {
      "cell_type": "code",
      "metadata": {
        "id": "BLoCSfbVgmFw",
        "outputId": "d9621167-4d27-42d9-ceb6-5fb0863b235a"
      },
      "source": [
        "_ = plt.hist(df['population_density'])\n",
        "_ = plt.title('Population Density')\n",
        "#_ = plt.xlabel('CardioVascular Death Rate Data')"
      ],
      "execution_count": null,
      "outputs": [
        {
          "data": {
            "image/png": "[encoded data removed]",
            "text/plain": [
              "<Figure size 432x288 with 1 Axes>"
            ]
          },
          "metadata": {
            "needs_background": "light"
          },
          "output_type": "display_data"
        }
      ]
    },
    {
      "cell_type": "code",
      "metadata": {
        "id": "EsQsEZBDgmFw",
        "outputId": "ed03dac2-f851-4fba-a623-d74ac8995c44"
      },
      "source": [
        "_ = plt.hist(df['median_age'])\n",
        "_ = plt.title('Median Age')\n",
        "_ = plt.xlabel('Median Age Data')"
      ],
      "execution_count": null,
      "outputs": [
        {
          "data": {
            "image/png": "[encoded data removed]",
            "text/plain": [
              "<Figure size 432x288 with 1 Axes>"
            ]
          },
          "metadata": {
            "needs_background": "light"
          },
          "output_type": "display_data"
        }
      ]
    },
    {
      "cell_type": "markdown",
      "metadata": {
        "id": "8dIsb_AggmFw"
      },
      "source": [
        "b. Find mean, median and mode of each column"
      ]
    },
    {
      "cell_type": "code",
      "metadata": {
        "id": "I7quPmuugmFx",
        "outputId": "f40c9ab1-b57c-40b0-e9db-cd4008e85af3"
      },
      "source": [
        "means = []  # for means of all columns \n",
        "\n",
        "medians = []  # for medians of all columns\n",
        "\n",
        "modes = []  # for modes of all modes\n",
        "\n",
        "df.iloc[:, 0].mode()\n",
        "df.iloc[:, 6].mean()\n",
        "df.iloc[:, 6].median()\n",
        "\n",
        "for _ in range(0, 40):\n",
        "    if df.iloc[:, _].dtype == 'object':\n",
        "        means.append('NA')\n",
        "        medians.append('NA')\n",
        "        modes.append(df.iloc[:, _].mode()[0])\n",
        "        \n",
        "    elif df.iloc[:, _].dtype == 'float64':\n",
        "        means.append(df.iloc[:, _].mean())\n",
        "        medians.append(df.iloc[:, _].median())\n",
        "        modes.append(df.iloc[:, _].mode()[0])\n",
        "print('--- MEANS ---')        \n",
        "print(means)\n",
        "print('--- MEDIANS ---')\n",
        "print(medians)\n",
        "print('--- MODES ---')\n",
        "print(modes)\n",
        "    \n",
        "    "
      ],
      "execution_count": null,
      "outputs": [
        {
          "name": "stdout",
          "output_type": "stream",
          "text": [
            "--- MEANS ---\n",
            "['NA', 'NA', 'NA', 'NA', 357952.6782608695, 11511.578260869566, 10933.128293333337, 8503.934782608696, 221.39565217391305, 213.56064444444442, 259.3851173913043, 8.341691304347828, 7.922515555555555, 6.162252173913043, 0.16042608695652175, 0.15474666666666667, 213617.94285714277, 7368567.931506854, 5.339541095890411, 0.1548071428571429, 183234.85430463578, 0.1327748344370861, 19.14761589403973, 0.06479470198675495, 'NA', 58.11531818181822, 1380004385.0, 450.4189999999987, 28.199999999999886, 5.989000000000016, 3.41399999999999, 6426.674000000034, 21.199999999999907, 282.2799999999992, 10.39000000000002, 1.8999999999999928, 20.599999999999998, 59.549999999999784, 0.5300000000000009, 69.65999999999988]\n",
            "--- MEDIANS ---\n",
            "['NA', 'NA', 'NA', 'NA', 24506.0, 1543.0, 1665.286, 775.0, 49.0, 56.143, 17.758, 1.1179999999999999, 1.207, 0.562, 0.036000000000000004, 0.040999999999999995, 213617.94285714286, 7368567.931506849, 5.33954109589041, 0.15480714285714287, 183234.85430463575, 0.13277483443708618, 19.147615894039735, 0.06479470198675498, 'NA', 76.39, 1380004385.0, 450.41900000000004, 28.2, 5.989, 3.4139999999999997, 6426.674, 21.2, 282.28, 10.39, 1.9, 20.6, 59.55, 0.53, 69.66]\n",
            "--- MODES ---\n",
            "['IND', 'Asia', 'India', '2019-12-31', 0.0, 0.0, 0.0, 0.0, 0.0, 0.0, 0.0, 0.0, 0.0, 0.0, 0.0, 0.0, 213617.94285714286, 7368567.931506849, 5.33954109589041, 0.15480714285714287, 183234.85430463575, 0.13277483443708618, 19.147615894039735, 0.06479470198675498, 'samples tested', 10.19, 1380004385.0, 450.41900000000004, 28.2, 5.989, 3.4139999999999997, 6426.674, 21.2, 282.28, 10.39, 1.9, 20.6, 59.55, 0.53, 69.66]\n"
          ]
        }
      ]
    },
    {
      "cell_type": "markdown",
      "metadata": {
        "id": "m9Qnc1blgmFx"
      },
      "source": [
        "5. Bivariate Analysis:<br>\n",
        "a. Draw scatter plots of target column versus 10 features"
      ]
    },
    {
      "cell_type": "code",
      "metadata": {
        "id": "shMGq6mAgmFx",
        "outputId": "87c1dc59-cff3-4fa9-fc8d-1ebf646dd7fe"
      },
      "source": [
        "_ = plt.scatter(x= df['total_tests'],y = df['total_cases'])\n",
        "_ = plt.xlabel('Total tests')\n",
        "_ = plt.ylabel('Total Cases')\n",
        "_ = plt.title('Total Cases Vs Total Tests ')"
      ],
      "execution_count": null,
      "outputs": [
        {
          "data": {
            "image/png": "[encoded data removed]",
            "text/plain": [
              "<Figure size 432x288 with 1 Axes>"
            ]
          },
          "metadata": {
            "needs_background": "light"
          },
          "output_type": "display_data"
        }
      ]
    },
    {
      "cell_type": "code",
      "metadata": {
        "id": "Tm_Nb9uugmFx",
        "outputId": "0964c0fb-1f8e-4989-c665-f8df35dc41d4"
      },
      "source": [
        "_ = plt.scatter(x= df['population_density'],y = df['total_cases'])\n",
        "_ = plt.xlabel('Population Density')\n",
        "_ = plt.ylabel('Total Cases')\n",
        "_ = plt.title('Total Cases Vs Population Density ')"
      ],
      "execution_count": null,
      "outputs": [
        {
          "data": {
            "image/png": "[encoded data removed]",
            "text/plain": [
              "<Figure size 432x288 with 1 Axes>"
            ]
          },
          "metadata": {
            "needs_background": "light"
          },
          "output_type": "display_data"
        }
      ]
    },
    {
      "cell_type": "code",
      "metadata": {
        "id": "vsCsF6dBgmFy",
        "outputId": "086d419c-9610-4e71-96a7-7291b70e577a"
      },
      "source": [
        "_ = plt.scatter(x= df['stringency_index'],y = df['total_cases'])\n",
        "_ = plt.xlabel('Stringency Index')\n",
        "_ = plt.ylabel('Total Cases')\n",
        "_ = plt.title('Total Cases Vs Stringency Index ')"
      ],
      "execution_count": null,
      "outputs": [
        {
          "data": {
            "image/png": "[encoded data removed]",
            "text/plain": [
              "<Figure size 432x288 with 1 Axes>"
            ]
          },
          "metadata": {
            "needs_background": "light"
          },
          "output_type": "display_data"
        }
      ]
    },
    {
      "cell_type": "code",
      "metadata": {
        "id": "pd2cQo4YgmFy",
        "outputId": "72b50876-bd37-4f55-adad-e0b18523a372"
      },
      "source": [
        "_ = plt.scatter(x= df['hospital_beds_per_thousand'],y = df['total_cases'])\n",
        "_ = plt.xlabel('Hospital Beds Per thousand')\n",
        "_ = plt.ylabel('Total Cases')\n",
        "_ = plt.title('Total Cases Vs Hospital Beds Per thousand ')"
      ],
      "execution_count": null,
      "outputs": [
        {
          "data": {
            "image/png": "[encoded data removed]",
            "text/plain": [
              "<Figure size 432x288 with 1 Axes>"
            ]
          },
          "metadata": {
            "needs_background": "light"
          },
          "output_type": "display_data"
        }
      ]
    },
    {
      "cell_type": "code",
      "metadata": {
        "id": "5dr94iVmgmFy",
        "outputId": "d7271e1d-1c5e-4a02-869c-f72cee25ed39"
      },
      "source": [
        "_ = plt.scatter(x= df['tests_per_case'],y = df['total_cases'])\n",
        "_ = plt.xlabel('Tests per case')\n",
        "_ = plt.ylabel('Total Cases')\n",
        "_ = plt.title('Total Cases Vs Tests per case ')"
      ],
      "execution_count": null,
      "outputs": [
        {
          "data": {
            "image/png": "[encoded data removed]",
            "text/plain": [
              "<Figure size 432x288 with 1 Axes>"
            ]
          },
          "metadata": {
            "needs_background": "light"
          },
          "output_type": "display_data"
        }
      ]
    },
    {
      "cell_type": "code",
      "metadata": {
        "id": "Ft2Q7-8igmFy",
        "outputId": "a5ac16d1-5173-4b0e-9998-383da1b5c638"
      },
      "source": [
        "_ = plt.scatter(x= df['positive_rate'],y = df['total_cases'])\n",
        "_ = plt.xlabel('Positive Rate')\n",
        "_ = plt.ylabel('Total Cases')\n",
        "_ = plt.title('Total Cases Vs Positive Rate ')"
      ],
      "execution_count": null,
      "outputs": [
        {
          "data": {
            "image/png": "[encoded data removed]",
            "text/plain": [
              "<Figure size 432x288 with 1 Axes>"
            ]
          },
          "metadata": {
            "needs_background": "light"
          },
          "output_type": "display_data"
        }
      ]
    },
    {
      "cell_type": "code",
      "metadata": {
        "id": "uyMecc5VgmFy",
        "outputId": "8745dd18-ff87-40c0-844f-628769faf7f6"
      },
      "source": [
        "_ = plt.scatter(x= df['median_age'],y = df['total_cases'])\n",
        "_ = plt.xlabel('Median Age')\n",
        "_ = plt.ylabel('Total Cases')\n",
        "_ = plt.title('Total Cases Vs Median Age ')"
      ],
      "execution_count": null,
      "outputs": [
        {
          "data": {
            "image/png": "[encoded data removed]",
            "text/plain": [
              "<Figure size 432x288 with 1 Axes>"
            ]
          },
          "metadata": {
            "needs_background": "light"
          },
          "output_type": "display_data"
        }
      ]
    },
    {
      "cell_type": "code",
      "metadata": {
        "id": "3WAWXOVGgmFz",
        "outputId": "3df87cf7-aeba-45a5-bc83-e41dd56d9474"
      },
      "source": [
        "_ = plt.scatter(x= df['extreme_poverty'],y = df['total_cases'])\n",
        "_ = plt.xlabel('Extreme Poverty')\n",
        "_ = plt.ylabel('Total Cases')\n",
        "_ = plt.title('Total Cases Vs Extreme Poverty ')"
      ],
      "execution_count": null,
      "outputs": [
        {
          "data": {
            "image/png": "[encoded data removed]",
            "text/plain": [
              "<Figure size 432x288 with 1 Axes>"
            ]
          },
          "metadata": {
            "needs_background": "light"
          },
          "output_type": "display_data"
        }
      ]
    },
    {
      "cell_type": "code",
      "metadata": {
        "id": "OsSs3LCZgmFz",
        "outputId": "f1506f3e-610b-4b6f-caa5-21ff7589cfd6"
      },
      "source": [
        "_ = plt.scatter(x= df['total_deaths'],y = df['total_cases'])\n",
        "_ = plt.xlabel('Total Deaths')\n",
        "_ = plt.ylabel('Total Cases')\n",
        "_ = plt.title('Total Cases Vs Total Deaths ')"
      ],
      "execution_count": null,
      "outputs": [
        {
          "data": {
            "image/png": "[encoded data removed]",
            "text/plain": [
              "<Figure size 432x288 with 1 Axes>"
            ]
          },
          "metadata": {
            "needs_background": "light"
          },
          "output_type": "display_data"
        }
      ]
    },
    {
      "cell_type": "code",
      "metadata": {
        "id": "skoKCLSzgmFz",
        "outputId": "335895e1-8be9-43e0-a32d-fd8520e3826e"
      },
      "source": [
        "_ = plt.scatter(x= df['new_cases_smoothed'],y = df['total_cases'])\n",
        "_ = plt.xlabel('New cases smoothed')\n",
        "_ = plt.ylabel('Total Cases')\n",
        "_ = plt.title('Total Cases Vs New cases smoothed ')"
      ],
      "execution_count": null,
      "outputs": [
        {
          "data": {
            "image/png": "[encoded data removed]",
            "text/plain": [
              "<Figure size 432x288 with 1 Axes>"
            ]
          },
          "metadata": {
            "needs_background": "light"
          },
          "output_type": "display_data"
        }
      ]
    },
    {
      "cell_type": "markdown",
      "metadata": {
        "id": "ZToMfwSigmFz"
      },
      "source": [
        "b. Draw line plots of target column versus 10 features\n"
      ]
    },
    {
      "cell_type": "code",
      "metadata": {
        "id": "MLND1KT7gmFz",
        "outputId": "5de4d50f-50ff-4f28-ad19-696c7d200698"
      },
      "source": [
        "_ = df.plot.line(x = 'new_cases_smoothed', y = 'total_cases')"
      ],
      "execution_count": null,
      "outputs": [
        {
          "data": {
            "image/png": "[encoded data removed]",
            "text/plain": [
              "<Figure size 432x288 with 1 Axes>"
            ]
          },
          "metadata": {
            "needs_background": "light"
          },
          "output_type": "display_data"
        }
      ]
    },
    {
      "cell_type": "code",
      "metadata": {
        "id": "saLYg4pvgmFz",
        "outputId": "a588ed65-507d-407a-af7d-b81bba8d1650"
      },
      "source": [
        "_ = df.plot.line(x = 'new_tests', y = 'total_cases')"
      ],
      "execution_count": null,
      "outputs": [
        {
          "data": {
            "image/png": "[encoded data removed]",
            "text/plain": [
              "<Figure size 432x288 with 1 Axes>"
            ]
          },
          "metadata": {
            "needs_background": "light"
          },
          "output_type": "display_data"
        }
      ]
    },
    {
      "cell_type": "code",
      "metadata": {
        "id": "wAsx-tOggmFz",
        "outputId": "1ec16857-41eb-4c87-ebfe-610a20c658a9"
      },
      "source": [
        "_ = df.plot.line(x = 'total_tests_per_thousand', y = 'total_cases')"
      ],
      "execution_count": null,
      "outputs": [
        {
          "data": {
            "image/png": "[encoded data removed]",
            "text/plain": [
              "<Figure size 432x288 with 1 Axes>"
            ]
          },
          "metadata": {
            "needs_background": "light"
          },
          "output_type": "display_data"
        }
      ]
    },
    {
      "cell_type": "code",
      "metadata": {
        "id": "mJ-WHYzrgmF0",
        "outputId": "8a40b041-010d-49e6-c542-ab749f9a3353"
      },
      "source": [
        "_ = df.plot.line(x = 'tests_per_case', y = 'total_cases')"
      ],
      "execution_count": null,
      "outputs": [
        {
          "data": {
            "image/png": "[encoded data removed]",
            "text/plain": [
              "<Figure size 432x288 with 1 Axes>"
            ]
          },
          "metadata": {
            "needs_background": "light"
          },
          "output_type": "display_data"
        }
      ]
    },
    {
      "cell_type": "code",
      "metadata": {
        "id": "tzsvPXM-gmF0",
        "outputId": "1acd0cb2-9d9f-4638-dfa7-ae8ebdd011d1"
      },
      "source": [
        "_ = df.plot.line(x = 'stringency_index', y = 'total_cases')"
      ],
      "execution_count": null,
      "outputs": [
        {
          "data": {
            "image/png": "[encoded data removed]",
            "text/plain": [
              "<Figure size 432x288 with 1 Axes>"
            ]
          },
          "metadata": {
            "needs_background": "light"
          },
          "output_type": "display_data"
        }
      ]
    },
    {
      "cell_type": "code",
      "metadata": {
        "id": "N6bq80ZzgmF0",
        "outputId": "3e3436ea-196e-4349-f598-3451adbfbf4d"
      },
      "source": [
        "_ = df.plot.line(x = 'median_age', y = 'total_cases')"
      ],
      "execution_count": null,
      "outputs": [
        {
          "data": {
            "image/png": "[encoded data removed]",
            "text/plain": [
              "<Figure size 432x288 with 1 Axes>"
            ]
          },
          "metadata": {
            "needs_background": "light"
          },
          "output_type": "display_data"
        }
      ]
    },
    {
      "cell_type": "code",
      "metadata": {
        "id": "qddPt_EPgmF0",
        "outputId": "7866f5cb-37b5-4f00-965a-b6cdd1d67722"
      },
      "source": [
        "_ = df.plot.line(x = 'life_expectancy', y = 'total_cases')"
      ],
      "execution_count": null,
      "outputs": [
        {
          "data": {
            "image/png": "[encoded data removed]",
            "text/plain": [
              "<Figure size 432x288 with 1 Axes>"
            ]
          },
          "metadata": {
            "needs_background": "light"
          },
          "output_type": "display_data"
        }
      ]
    },
    {
      "cell_type": "code",
      "metadata": {
        "id": "TQ209M1xgmF0",
        "outputId": "115439be-ea3b-465a-e071-1fef74b68019"
      },
      "source": [
        "_ = df.plot.line(x = 'tests_units', y = 'total_cases')"
      ],
      "execution_count": null,
      "outputs": [
        {
          "data": {
            "image/png": "[encoded data removed]",
            "text/plain": [
              "<Figure size 432x288 with 1 Axes>"
            ]
          },
          "metadata": {
            "needs_background": "light"
          },
          "output_type": "display_data"
        }
      ]
    },
    {
      "cell_type": "code",
      "metadata": {
        "id": "l2xOssAVgmF0",
        "outputId": "b59723ff-a3fd-4c10-d6ee-4a7f062840e3"
      },
      "source": [
        "_ = df.plot.line(x = 'positive_rate', y = 'total_cases')"
      ],
      "execution_count": null,
      "outputs": [
        {
          "data": {
            "image/png": "[encoded data removed]",
            "text/plain": [
              "<Figure size 432x288 with 1 Axes>"
            ]
          },
          "metadata": {
            "needs_background": "light"
          },
          "output_type": "display_data"
        }
      ]
    },
    {
      "cell_type": "code",
      "metadata": {
        "id": "BkPlnXZXgmF0",
        "outputId": "dec9a344-9527-438a-c915-0e0157c02bf3"
      },
      "source": [
        "_ = df.plot.line(x = 'new_tests_smoothed', y = 'total_cases')"
      ],
      "execution_count": null,
      "outputs": [
        {
          "data": {
            "image/png": "[encoded data removed]",
            "text/plain": [
              "<Figure size 432x288 with 1 Axes>"
            ]
          },
          "metadata": {
            "needs_background": "light"
          },
          "output_type": "display_data"
        }
      ]
    },
    {
      "cell_type": "markdown",
      "metadata": {
        "id": "KMyfOfsSgmF1"
      },
      "source": [
        "6. Convert date column to ordinal"
      ]
    },
    {
      "cell_type": "code",
      "metadata": {
        "id": "Q6Tg5juJgmF1"
      },
      "source": [
        "import datetime as dt\n",
        "\n",
        "df[\"date\"]=pd.to_datetime(df[\"date\"])\n",
        "df[\"date\"]=df[\"date\"].map(dt.datetime.toordinal)"
      ],
      "execution_count": null,
      "outputs": []
    },
    {
      "cell_type": "markdown",
      "metadata": {
        "id": "Rpf3FVR3gmF1"
      },
      "source": [
        "7. Drop useless categorical columns, and convert useful categorical to numerical by labelencoder"
      ]
    },
    {
      "cell_type": "code",
      "metadata": {
        "id": "15UwsKbHgmF1"
      },
      "source": [
        "# drop useless categorical columns\n",
        "\n",
        "df = df.drop(['iso_code','continent','location','tests_units'], axis = 1)"
      ],
      "execution_count": null,
      "outputs": []
    },
    {
      "cell_type": "code",
      "metadata": {
        "id": "GOO_-24FgmF1",
        "outputId": "12d58521-79f8-4cb3-ef90-31202bfa43fd"
      },
      "source": [
        "df.shape"
      ],
      "execution_count": null,
      "outputs": [
        {
          "data": {
            "text/plain": [
              "(231, 36)"
            ]
          },
          "execution_count": 212,
          "metadata": {},
          "output_type": "execute_result"
        }
      ]
    },
    {
      "cell_type": "code",
      "metadata": {
        "id": "viTSRXXwgmF1"
      },
      "source": [
        "# drop numerical columns that are not so useful\n",
        "\n",
        "df = df.drop(['gdp_per_capita', 'population_density'], axis = 1)"
      ],
      "execution_count": null,
      "outputs": []
    },
    {
      "cell_type": "code",
      "metadata": {
        "id": "RAKzuArogmF2",
        "outputId": "195af6f8-fe79-4479-dbb0-34293f8c5324"
      },
      "source": [
        "df.shape"
      ],
      "execution_count": null,
      "outputs": [
        {
          "data": {
            "text/plain": [
              "(231, 34)"
            ]
          },
          "execution_count": 214,
          "metadata": {},
          "output_type": "execute_result"
        }
      ]
    },
    {
      "cell_type": "markdown",
      "metadata": {
        "id": "VNvvMgcCgmF2"
      },
      "source": [
        "8. Select “total_cases” column as the target variable"
      ]
    },
    {
      "cell_type": "code",
      "metadata": {
        "id": "6W5LrBxSgmF2"
      },
      "source": [
        "# target variable\n",
        "\n",
        "y = df['total_cases']"
      ],
      "execution_count": null,
      "outputs": []
    },
    {
      "cell_type": "markdown",
      "metadata": {
        "id": "qCla8OJ8gmF2"
      },
      "source": [
        "9. Select the other columns as the features(NOTE: the “date” column has to be\n",
        "compulsorily in the features)"
      ]
    },
    {
      "cell_type": "code",
      "metadata": {
        "id": "-Y8Jm3cwgmF2"
      },
      "source": [
        "# features\n",
        "\n",
        "X = df.drop('total_cases', axis = 1)"
      ],
      "execution_count": null,
      "outputs": []
    },
    {
      "cell_type": "code",
      "metadata": {
        "id": "tfhYU0N-gmF2",
        "outputId": "6fd11a4f-73e1-4acd-a5bd-93c097476222"
      },
      "source": [
        "type(X)"
      ],
      "execution_count": null,
      "outputs": [
        {
          "data": {
            "text/plain": [
              "pandas.core.frame.DataFrame"
            ]
          },
          "execution_count": 217,
          "metadata": {},
          "output_type": "execute_result"
        }
      ]
    },
    {
      "cell_type": "code",
      "metadata": {
        "id": "81RV6bx2gmF2",
        "outputId": "b3e91118-291f-40d8-a608-e941186becfb"
      },
      "source": [
        "type(y)"
      ],
      "execution_count": null,
      "outputs": [
        {
          "data": {
            "text/plain": [
              "pandas.core.series.Series"
            ]
          },
          "execution_count": 218,
          "metadata": {},
          "output_type": "execute_result"
        }
      ]
    },
    {
      "cell_type": "markdown",
      "metadata": {
        "id": "siptMfZtgmF2"
      },
      "source": [
        "# Linear Regression"
      ]
    },
    {
      "cell_type": "code",
      "metadata": {
        "id": "sXZK67rKgmF3"
      },
      "source": [
        "from sklearn.linear_model import LinearRegression"
      ],
      "execution_count": null,
      "outputs": []
    },
    {
      "cell_type": "code",
      "metadata": {
        "id": "ufgv106_gmF3"
      },
      "source": [
        "# instantiation\n",
        "\n",
        "reg=LinearRegression()"
      ],
      "execution_count": null,
      "outputs": []
    },
    {
      "cell_type": "code",
      "metadata": {
        "id": "yoT-D_g8gmF3",
        "outputId": "507da53a-2289-4367-b335-d7f0826721c8"
      },
      "source": [
        "# fit \n",
        "\n",
        "reg.fit(X,y)"
      ],
      "execution_count": null,
      "outputs": [
        {
          "data": {
            "text/plain": [
              "LinearRegression(copy_X=True, fit_intercept=True, n_jobs=None, normalize=False)"
            ]
          },
          "execution_count": 221,
          "metadata": {},
          "output_type": "execute_result"
        }
      ]
    },
    {
      "cell_type": "code",
      "metadata": {
        "id": "mqM_WtplgmF3"
      },
      "source": [
        "from sklearn.model_selection import train_test_split"
      ],
      "execution_count": null,
      "outputs": []
    },
    {
      "cell_type": "code",
      "metadata": {
        "id": "UHXBHG6AgmF3"
      },
      "source": [
        "X_train,X_test,y_train,y_test = train_test_split(X,y,test_size=0.3,random_state=42)"
      ],
      "execution_count": null,
      "outputs": []
    },
    {
      "cell_type": "code",
      "metadata": {
        "id": "9wSqcTEGgmF3"
      },
      "source": [
        "# instantiation\n",
        "\n",
        "reg_all=LinearRegression()"
      ],
      "execution_count": null,
      "outputs": []
    },
    {
      "cell_type": "code",
      "metadata": {
        "id": "d4zVC08qgmF3",
        "outputId": "c3b125e9-d551-4b81-8be1-f1a6f9197c62"
      },
      "source": [
        "# fit on training data\n",
        "\n",
        "reg_all.fit(X_train,y_train)"
      ],
      "execution_count": null,
      "outputs": [
        {
          "data": {
            "text/plain": [
              "LinearRegression(copy_X=True, fit_intercept=True, n_jobs=None, normalize=False)"
            ]
          },
          "execution_count": 225,
          "metadata": {},
          "output_type": "execute_result"
        }
      ]
    },
    {
      "cell_type": "code",
      "metadata": {
        "id": "sQJlnw2vgmF3",
        "outputId": "a36da30e-fa6c-4ffe-f981-76e21ed0d465"
      },
      "source": [
        "X_test.shape"
      ],
      "execution_count": null,
      "outputs": [
        {
          "data": {
            "text/plain": [
              "(70, 33)"
            ]
          },
          "execution_count": 226,
          "metadata": {},
          "output_type": "execute_result"
        }
      ]
    },
    {
      "cell_type": "code",
      "metadata": {
        "id": "YOx9qJvKgmF4",
        "outputId": "e8571c96-8d76-482a-a5e3-b504bfc263d3"
      },
      "source": [
        "reg_all.score(X_test,y_test)"
      ],
      "execution_count": null,
      "outputs": [
        {
          "data": {
            "text/plain": [
              "0.9999999999995125"
            ]
          },
          "execution_count": 227,
          "metadata": {},
          "output_type": "execute_result"
        }
      ]
    },
    {
      "cell_type": "code",
      "metadata": {
        "id": "AV8rXic2gmF4"
      },
      "source": [
        "y_pred=reg_all.predict(X_test)"
      ],
      "execution_count": null,
      "outputs": []
    },
    {
      "cell_type": "code",
      "metadata": {
        "id": "ERb6p_nBgmF4"
      },
      "source": [
        "from sklearn.metrics import mean_squared_error"
      ],
      "execution_count": null,
      "outputs": []
    },
    {
      "cell_type": "code",
      "metadata": {
        "id": "F0y40bVDgmF4",
        "outputId": "0cf75456-8e0c-44b0-b665-50f4367c4ff9"
      },
      "source": [
        "# ideally mean squared error should be as close to zero as possible\n",
        "\n",
        "mean_squared_error(y_test,y_pred)"
      ],
      "execution_count": null,
      "outputs": [
        {
          "data": {
            "text/plain": [
              "0.16808499429669643"
            ]
          },
          "execution_count": 230,
          "metadata": {},
          "output_type": "execute_result"
        }
      ]
    },
    {
      "cell_type": "code",
      "metadata": {
        "id": "CcZ5m6LhgmF4"
      },
      "source": [
        "import numpy as np"
      ],
      "execution_count": null,
      "outputs": []
    },
    {
      "cell_type": "code",
      "metadata": {
        "id": "mkLw7MDegmF4",
        "outputId": "3db6bcc8-8442-4224-ea68-8dd2b7f88b92"
      },
      "source": [
        "np.sqrt(mean_squared_error(y_test,y_pred))"
      ],
      "execution_count": null,
      "outputs": [
        {
          "data": {
            "text/plain": [
              "0.4099816999534204"
            ]
          },
          "execution_count": 232,
          "metadata": {},
          "output_type": "execute_result"
        }
      ]
    },
    {
      "cell_type": "code",
      "metadata": {
        "id": "9_0xT-TXgmF4",
        "outputId": "22c3cfa9-8f06-4ce4-f39f-eecf334c6c66"
      },
      "source": [
        "reg_all.score(X_train,y_train)"
      ],
      "execution_count": null,
      "outputs": [
        {
          "data": {
            "text/plain": [
              "0.999999999999762"
            ]
          },
          "execution_count": 233,
          "metadata": {},
          "output_type": "execute_result"
        }
      ]
    },
    {
      "cell_type": "code",
      "metadata": {
        "id": "4kQ0BvEqgmF4"
      },
      "source": [
        "from sklearn.model_selection import cross_val_score"
      ],
      "execution_count": null,
      "outputs": []
    },
    {
      "cell_type": "code",
      "metadata": {
        "id": "gyFusSL5gmF4"
      },
      "source": [
        "# regressor for cross validation\n",
        "\n",
        "reg_cv=LinearRegression()"
      ],
      "execution_count": null,
      "outputs": []
    },
    {
      "cell_type": "code",
      "metadata": {
        "id": "EqllF9LGgmF5"
      },
      "source": [
        "# 5 metrics\n",
        "\n",
        "cv_scores=cross_val_score(reg_cv,X,y,cv=5)"
      ],
      "execution_count": null,
      "outputs": []
    },
    {
      "cell_type": "code",
      "metadata": {
        "id": "7ZNOo1kZgmF5",
        "outputId": "3729ddd2-74ab-4420-9f8a-93c6ea09598f"
      },
      "source": [
        "# mean of 5 readings\n",
        "\n",
        "np.mean(cv_scores)"
      ],
      "execution_count": null,
      "outputs": [
        {
          "data": {
            "text/plain": [
              "0.9938852470403858"
            ]
          },
          "execution_count": 237,
          "metadata": {},
          "output_type": "execute_result"
        }
      ]
    },
    {
      "cell_type": "markdown",
      "metadata": {
        "id": "VYAHLzYwgmF5"
      },
      "source": [
        "# Random Forrest Regressor"
      ]
    },
    {
      "cell_type": "code",
      "metadata": {
        "id": "0MG0w9gxgmF5"
      },
      "source": [
        "from sklearn.ensemble import RandomForestRegressor"
      ],
      "execution_count": null,
      "outputs": []
    },
    {
      "cell_type": "code",
      "metadata": {
        "id": "LjwbtFJ1gmF5"
      },
      "source": [
        "# instantiation\n",
        "\n",
        "randomfor=RandomForestRegressor()"
      ],
      "execution_count": null,
      "outputs": []
    },
    {
      "cell_type": "code",
      "metadata": {
        "id": "jilVQH41gmF5",
        "outputId": "591865fa-b53b-44b2-a9cb-f040d41c78ef"
      },
      "source": [
        "# fit the data\n",
        "\n",
        "randomfor.fit(X_train,y_train)"
      ],
      "execution_count": null,
      "outputs": [
        {
          "data": {
            "text/plain": [
              "RandomForestRegressor(bootstrap=True, ccp_alpha=0.0, criterion='mse',\n",
              "                      max_depth=None, max_features='auto', max_leaf_nodes=None,\n",
              "                      max_samples=None, min_impurity_decrease=0.0,\n",
              "                      min_impurity_split=None, min_samples_leaf=1,\n",
              "                      min_samples_split=2, min_weight_fraction_leaf=0.0,\n",
              "                      n_estimators=100, n_jobs=None, oob_score=False,\n",
              "                      random_state=None, verbose=0, warm_start=False)"
            ]
          },
          "execution_count": 240,
          "metadata": {},
          "output_type": "execute_result"
        }
      ]
    },
    {
      "cell_type": "code",
      "metadata": {
        "id": "-i95k5-pgmF5",
        "outputId": "ff923af2-28c9-4b84-c3a8-5116ab275794"
      },
      "source": [
        "# check the score\n",
        "\n",
        "randomfor.score(X_test,y_test)"
      ],
      "execution_count": null,
      "outputs": [
        {
          "data": {
            "text/plain": [
              "0.9984422010704811"
            ]
          },
          "execution_count": 241,
          "metadata": {},
          "output_type": "execute_result"
        }
      ]
    },
    {
      "cell_type": "markdown",
      "metadata": {
        "id": "GQm50gU3gmF6"
      },
      "source": [
        "# Prediction"
      ]
    },
    {
      "cell_type": "code",
      "metadata": {
        "id": "8u8YwEjbgmF6",
        "outputId": "7fbd6ff2-58c7-46ae-bedf-aee4a7dfc008"
      },
      "source": [
        "df.info()"
      ],
      "execution_count": null,
      "outputs": [
        {
          "name": "stdout",
          "output_type": "stream",
          "text": [
            "<class 'pandas.core.frame.DataFrame'>\n",
            "Int64Index: 231 entries, 16118 to 16348\n",
            "Data columns (total 34 columns):\n",
            " #   Column                           Non-Null Count  Dtype  \n",
            "---  ------                           --------------  -----  \n",
            " 0   date                             231 non-null    int64  \n",
            " 1   total_cases                      231 non-null    float64\n",
            " 2   new_cases                        231 non-null    float64\n",
            " 3   new_cases_smoothed               231 non-null    float64\n",
            " 4   total_deaths                     231 non-null    float64\n",
            " 5   new_deaths                       231 non-null    float64\n",
            " 6   new_deaths_smoothed              231 non-null    float64\n",
            " 7   total_cases_per_million          231 non-null    float64\n",
            " 8   new_cases_per_million            231 non-null    float64\n",
            " 9   new_cases_smoothed_per_million   231 non-null    float64\n",
            " 10  total_deaths_per_million         231 non-null    float64\n",
            " 11  new_deaths_per_million           231 non-null    float64\n",
            " 12  new_deaths_smoothed_per_million  231 non-null    float64\n",
            " 13  new_tests                        231 non-null    float64\n",
            " 14  total_tests                      231 non-null    float64\n",
            " 15  total_tests_per_thousand         231 non-null    float64\n",
            " 16  new_tests_per_thousand           231 non-null    float64\n",
            " 17  new_tests_smoothed               231 non-null    float64\n",
            " 18  new_tests_smoothed_per_thousand  231 non-null    float64\n",
            " 19  tests_per_case                   231 non-null    float64\n",
            " 20  positive_rate                    231 non-null    float64\n",
            " 21  stringency_index                 231 non-null    float64\n",
            " 22  population                       231 non-null    float64\n",
            " 23  median_age                       231 non-null    float64\n",
            " 24  aged_65_older                    231 non-null    float64\n",
            " 25  aged_70_older                    231 non-null    float64\n",
            " 26  extreme_poverty                  231 non-null    float64\n",
            " 27  cardiovasc_death_rate            231 non-null    float64\n",
            " 28  diabetes_prevalence              231 non-null    float64\n",
            " 29  female_smokers                   231 non-null    float64\n",
            " 30  male_smokers                     231 non-null    float64\n",
            " 31  handwashing_facilities           231 non-null    float64\n",
            " 32  hospital_beds_per_thousand       231 non-null    float64\n",
            " 33  life_expectancy                  231 non-null    float64\n",
            "dtypes: float64(33), int64(1)\n",
            "memory usage: 63.2 KB\n"
          ]
        }
      ]
    },
    {
      "cell_type": "code",
      "metadata": {
        "id": "6iVprRglgmF6",
        "outputId": "24b5e96c-518f-4072-95ac-22731c1e1729"
      },
      "source": [
        "df.iloc[:,0]"
      ],
      "execution_count": null,
      "outputs": [
        {
          "data": {
            "text/plain": [
              "16118    737424\n",
              "16119    737425\n",
              "16120    737426\n",
              "16121    737427\n",
              "16122    737428\n",
              "          ...  \n",
              "16344    737650\n",
              "16345    737651\n",
              "16346    737652\n",
              "16347    737653\n",
              "16348    737654\n",
              "Name: date, Length: 231, dtype: int64"
            ]
          },
          "execution_count": 243,
          "metadata": {},
          "output_type": "execute_result"
        }
      ]
    },
    {
      "cell_type": "code",
      "metadata": {
        "id": "zFSRScp_gmF6",
        "outputId": "d8ed3e68-8b7d-4c77-8e77-81a5943f7877"
      },
      "source": [
        "df.shape"
      ],
      "execution_count": null,
      "outputs": [
        {
          "data": {
            "text/plain": [
              "(231, 34)"
            ]
          },
          "execution_count": 244,
          "metadata": {},
          "output_type": "execute_result"
        }
      ]
    },
    {
      "cell_type": "code",
      "metadata": {
        "id": "SHX9iFd8gmF6"
      },
      "source": [
        "# new data for prediction\n",
        "\n",
        "# let's predict for date 2020-08-20 \n",
        "\n",
        "NewData = {\n",
        "    'date':['2020-08-20'],\n",
        "    #total_cases':[0],\n",
        "    'new_cases':[58000],\n",
        "    'new_cases_smoothed':[61798.429],\n",
        "    'total_deaths':[49980.0],\n",
        "    'new_deaths':[900],\n",
        "    'new_deaths_smoothed':[900],\n",
        "    'total_cases_per_million':[1876.575],\n",
        "    'new_cases_per_million':[45.015],\n",
        "    'new_cases_smoothed_per_million':[46.781],\n",
        "    'total_deaths_per_million':[36.899],\n",
        "    'new_deaths_per_million':[0.622],\n",
        "    'new_deaths_smoothed_per_million':[0.616],\n",
        "    'new_tests':[731697.0],\n",
        "    'total_tests':[20041400.0],\n",
        "    'total_tests_per_thousand':[21.769],\n",
        "    'new_tests_per_thousand':[0.530],\n",
        "    'new_tests_smoothed':[779692.0],\n",
        "    'new_tests_smoothed_per_thousand':[0.565],\n",
        "    'tests_per_case':[10.123],\n",
        "    'positive_rate':[0.070],\n",
        "    'stringency_index':[77.78],\n",
        "    'population':[1.380004e+09],\n",
        "    'median_age':[28.2],\n",
        "    'aged_65_older':[5.989],\n",
        "    'aged_70_older':[3.414],\n",
        "    'extreme_poverty':[21.2],\n",
        "    'cardiovasc_death_rate':[282.28],\n",
        "    'diabetes_prevalence':[10.39],\n",
        "    'female_smokers':[1.9],\n",
        "    'male_smokers':[20.6],\n",
        "    'handwashing_facilities':[59.55],\n",
        "    'hospital_beds_per_thousand':[0.53],\n",
        "    'life_expectancy':[69.66]\n",
        "    \n",
        "}"
      ],
      "execution_count": null,
      "outputs": []
    },
    {
      "cell_type": "code",
      "metadata": {
        "id": "DFIZudFEgmF6",
        "outputId": "0e32e8e4-734a-40ab-f245-1d8fc9e151c3"
      },
      "source": [
        "len(NewData)"
      ],
      "execution_count": null,
      "outputs": [
        {
          "data": {
            "text/plain": [
              "33"
            ]
          },
          "execution_count": 246,
          "metadata": {},
          "output_type": "execute_result"
        }
      ]
    },
    {
      "cell_type": "code",
      "metadata": {
        "id": "wp0sL3mXgmF7"
      },
      "source": [
        "df2 = pd.DataFrame(NewData)"
      ],
      "execution_count": null,
      "outputs": []
    },
    {
      "cell_type": "code",
      "metadata": {
        "id": "-wEKLWTqgmF7",
        "outputId": "27a596b5-ee69-4539-9729-f5603aef889f"
      },
      "source": [
        "type(df2)"
      ],
      "execution_count": null,
      "outputs": [
        {
          "data": {
            "text/plain": [
              "pandas.core.frame.DataFrame"
            ]
          },
          "execution_count": 248,
          "metadata": {},
          "output_type": "execute_result"
        }
      ]
    },
    {
      "cell_type": "code",
      "metadata": {
        "id": "qdLes6cegmF7"
      },
      "source": [
        "import datetime as dt\n",
        "\n",
        "df2[\"date\"]=pd.to_datetime(df2[\"date\"])\n",
        "df2[\"date\"]=df2[\"date\"].map(dt.datetime.toordinal)"
      ],
      "execution_count": null,
      "outputs": []
    },
    {
      "cell_type": "code",
      "metadata": {
        "id": "Kl1U8GKJgmF7",
        "outputId": "c6aed033-f8c5-4a78-8a02-03d37eed8db1"
      },
      "source": [
        "# prediction using linear regressor\n",
        "\n",
        "reg.predict(df2)"
      ],
      "execution_count": null,
      "outputs": [
        {
          "data": {
            "text/plain": [
              "array([2589171.35380033])"
            ]
          },
          "execution_count": 250,
          "metadata": {},
          "output_type": "execute_result"
        }
      ]
    },
    {
      "cell_type": "code",
      "metadata": {
        "id": "ECLCj9n6gmF7",
        "outputId": "185384de-c05d-49f1-80bf-ad48b74d4901"
      },
      "source": [
        "# prediction using random forest regressor\n",
        "\n",
        "randomfor.predict(df2)"
      ],
      "execution_count": null,
      "outputs": [
        {
          "data": {
            "text/plain": [
              "array([2338756.38])"
            ]
          },
          "execution_count": 251,
          "metadata": {},
          "output_type": "execute_result"
        }
      ]
    },
    {
      "cell_type": "code",
      "metadata": {
        "id": "sUcrNN3igmF7"
      },
      "source": [
        ""
      ],
      "execution_count": null,
      "outputs": []
    },
    {
      "cell_type": "code",
      "metadata": {
        "id": "NNU_bhLsgmF7"
      },
      "source": [
        ""
      ],
      "execution_count": null,
      "outputs": []
    }
  ]
}